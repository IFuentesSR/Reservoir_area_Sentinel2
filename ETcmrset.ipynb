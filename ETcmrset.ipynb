{
  "nbformat": 4,
  "nbformat_minor": 0,
  "metadata": {
    "colab": {
      "name": "ETcmrset.ipynb",
      "provenance": [],
      "collapsed_sections": [],
      "toc_visible": true,
      "authorship_tag": "ABX9TyNmmmsnoAirVI1KDt+JLfUv",
      "include_colab_link": true
    },
    "kernelspec": {
      "display_name": "Python 3",
      "name": "python3"
    }
  },
  "cells": [
    {
      "cell_type": "markdown",
      "metadata": {
        "id": "view-in-github",
        "colab_type": "text"
      },
      "source": [
        "<a href=\"https://colab.research.google.com/github/IFuentesSR/Reservoir_area_Sentinel2/blob/main/ETcmrset.ipynb\" target=\"_parent\"><img src=\"https://colab.research.google.com/assets/colab-badge.svg\" alt=\"Open In Colab\"/></a>"
      ]
    },
    {
      "cell_type": "code",
      "metadata": {
        "colab": {
          "base_uri": "https://localhost:8080/"
        },
        "id": "8f82ppVy1tw8",
        "outputId": "ea785724-81d5-427d-e6f0-69793e4636e3"
      },
      "source": [
        "# Import, authenticate and initialize the Earth Engine library.\n",
        "import ee\n",
        "ee.Authenticate()\n",
        "ee.Initialize()"
      ],
      "execution_count": null,
      "outputs": [
        {
          "output_type": "stream",
          "name": "stdout",
          "text": [
            "To authorize access needed by Earth Engine, open the following URL in a web browser and follow the instructions. If the web browser does not start automatically, please manually browse the URL below.\n",
            "\n",
            "    https://accounts.google.com/o/oauth2/auth?client_id=517222506229-vsmmajv00ul0bs7p89v5m89qs8eb9359.apps.googleusercontent.com&scope=https%3A%2F%2Fwww.googleapis.com%2Fauth%2Fearthengine+https%3A%2F%2Fwww.googleapis.com%2Fauth%2Fdevstorage.full_control&redirect_uri=urn%3Aietf%3Awg%3Aoauth%3A2.0%3Aoob&response_type=code&code_challenge=cGUdWfH0t_a1NSfD8K0e7VDOrLFqaGviAWFF_X9HoV0&code_challenge_method=S256\n",
            "\n",
            "The authorization workflow will generate a code, which you should paste in the box below. \n",
            "Enter verification code: 4/1AX4XfWh3YU4O06zvRm2f43AJ5toKqOXoMEWxFDx5wbqzwS-6xdRuZmgTM88\n",
            "\n",
            "Successfully saved authorization token.\n"
          ]
        }
      ]
    },
    {
      "cell_type": "code",
      "metadata": {
        "colab": {
          "base_uri": "https://localhost:8080/"
        },
        "id": "0BbSNzT91zPZ",
        "outputId": "4a40fe24-ec08-4a98-ffad-6f82deac8041"
      },
      "source": [
        "# Folium setup.\n",
        "import folium\n",
        "import datetime\n",
        "import numpy as np\n",
        "import pandas as pd\n",
        "from datetime import datetime, timedelta\n",
        "from sklearn import linear_model\n",
        "from sklearn.utils import resample\n",
        "import matplotlib.pyplot as plt\n",
        "from scipy import interpolate\n",
        "%matplotlib inline\n",
        "\n",
        "print(folium.__version__)"
      ],
      "execution_count": null,
      "outputs": [
        {
          "output_type": "stream",
          "name": "stdout",
          "text": [
            "0.8.3\n"
          ]
        }
      ]
    },
    {
      "cell_type": "code",
      "metadata": {
        "colab": {
          "base_uri": "https://localhost:8080/"
        },
        "id": "nuAT9V7Z-aTh",
        "outputId": "1886768a-85e5-4a59-ebe3-445589431328"
      },
      "source": [
        "from google.colab import drive\n",
        "drive.mount('/content/drive')"
      ],
      "execution_count": null,
      "outputs": [
        {
          "output_type": "stream",
          "name": "stdout",
          "text": [
            "Mounted at /content/drive\n"
          ]
        }
      ]
    },
    {
      "cell_type": "markdown",
      "metadata": {
        "id": "9ia-F_RgccAI"
      },
      "source": [
        "### CMRSET evapotranspiration calculations\n",
        "\n",
        "### Kc\n",
        "\n",
        "Set of equations for estimating the crop coefficient Kc using the CMRSET evapotranspiration methodology "
      ]
    },
    {
      "cell_type": "code",
      "metadata": {
        "id": "sdJ1Jqmj1zTx"
      },
      "source": [
        "def getS2_CLOUD_PROBABILITY(geo):\n",
        "    innerJoined = ee.Join.inner().apply(primary=ee.ImageCollection(\"COPERNICUS/S2\").filterBounds(geo).filter(ee.Filter.lt('CLOUDY_PIXEL_PERCENTAGE', 15)),\n",
        "                                        secondary=ee.ImageCollection(\"COPERNICUS/S2_CLOUD_PROBABILITY\").filterBounds(geo),\n",
        "                                        condition=ee.Filter.equals(leftField='system:index',\n",
        "                                                                   rightField='system:index'))\n",
        "    def mergeImageBands(joinResult):\n",
        "        return ee.Image(joinResult.get('primary')).addBands(joinResult.get('secondary'))\n",
        "\n",
        "    newCollection = innerJoined.map(mergeImageBands)\n",
        "    return ee.ImageCollection(newCollection)\n",
        "\n",
        "\n",
        "def LandsatcloudShadowMask(img):\n",
        "    cloudMask = img.select('pixel_qa').bitwiseAnd(32).eq(0)\n",
        "    masked = img.updateMask(cloudMask)\n",
        "    shadowMask = img.select('pixel_qa').bitwiseAnd(8).eq(0)#.And(img.select('pixel_qa').bitwiseAnd(16).eq(0))\n",
        "    return masked.updateMask(shadowMask).multiply(0.0001)\n",
        "\n",
        "\n",
        "def band_conversion(img):\n",
        "    bands = ['B1','B2','B3','B4','B5','B6','B7','pixel_qa']\n",
        "    B6 = (img.select('B10').add(img.select('B11'))).divide(2).rename('B6').toInt16()\n",
        "    toRetrieve = img.select(['B2','B3','B4','B5','B6','B7','pixel_qa']).rename(['B1','B2','B3','B4','B5','B7','pixel_qa']).addBands(B6)\n",
        "    return toRetrieve.select(bands)\n",
        "\n",
        "\n",
        "def get_landsat(geo):\n",
        "    bands = ['B1','B2','B3','B4','B5','B6','B7','pixel_qa']\n",
        "    bands1 = ['B2','B3','B4','B5','B6','B7','B10','B11','pixel_qa']\n",
        "    l5 = ee.ImageCollection('LANDSAT/LT05/C01/T1_SR').select(bands).filterBounds(geo)\n",
        "    l7 = ee.ImageCollection('LANDSAT/LE07/C01/T1_SR').select(bands).filterBounds(geo)\n",
        "    l8 = ee.ImageCollection('LANDSAT/LC08/C01/T1_SR').select(bands1).filterBounds(geo).map(band_conversion)\n",
        "    Ls = l5.merge(l7).merge(l8)\n",
        "    Ls = Ls.map(LandsatcloudShadowMask).sort('system:time_start')\n",
        "    return Ls\n",
        "\n",
        "\n",
        "def maskClouds(_img):\n",
        "    props = _img.propertyNames()\n",
        "    cloudProbabilityThreshold = 30\n",
        "    cloudMask = _img.select('probability').lt(cloudProbabilityThreshold)\n",
        "    return _img.updateMask(cloudMask).multiply(0.0001).copyProperties(_img, props)\n",
        "\n",
        "\n",
        "def CloudMaskS2(image):\n",
        "    prop = image.propertyNames()\n",
        "    QA = image.select('SCL')\n",
        "    clouds = 9;\n",
        "    cirrus = 8;\n",
        "    thin_cirrus = 10;\n",
        "    shadows = 3;\n",
        "    mask = QA.neq(clouds).And(QA.neq(shadows)).And(QA.neq(thin_cirrus))  # .and(QA.neq(cirrus));\n",
        "    return image.updateMask(mask).multiply(0.0001).copyProperties(image, prop);\n",
        "\n",
        "\n",
        "def NDVI(coll=0):\n",
        "    # 0 for landsat\n",
        "    def inner(img):\n",
        "        condition = ee.Algorithms.If(ee.Number(coll).eq(0),\n",
        "                                     img.normalizedDifference(['B4', 'B3']),\n",
        "                                     img.normalizedDifference(['B8', 'B4']))\n",
        "        ndvi = ee.Image(condition)    \n",
        "        return img.addBands(ndvi.rename('NDVI')).copyProperties(img, ['system:time_start'])\n",
        "    return inner\n",
        "\n",
        "\n",
        "def EVI(coll=0):\n",
        "    def inner(img):\n",
        "        condition = ee.Algorithms.If(ee.Number(coll).eq(0),\n",
        "                                     img.expression('2.5 * (NIR - Red) / (NIR + 6 * Red - 7.5 * Blue + 1)',\n",
        "                                                    {'NIR':img.select('B4'), 'Red': img.select('B3'), 'Blue':img.select('B1')}),\n",
        "                                     img.expression('2.5 * (NIR - Red) / (NIR + 6 * Red - 7.5 * Blue + 1)',\n",
        "                                                    {'NIR':img.select('B8'), 'Red': img.select('B4'), 'Blue':img.select('B2')}))\n",
        "        evi = ee.Image(condition)\n",
        "        evir = evi.divide(0.9).clamp(0, 1)\n",
        "        return img.addBands([evi.rename('EVI'), evir.rename('EVIr')]).copyProperties(img, ['system:time_start'])\n",
        "    return inner\n",
        "\n",
        "\n",
        "def GVMI(coll=0):\n",
        "    def inner(img):\n",
        "        condition = ee.Algorithms.If(ee.Number(coll).eq(0),\n",
        "                                     img.expression('((NIR + 0.1)-(SWIR2 + 0.02)) / ((NIR + 0.1)+(SWIR2 + 0.02))',\n",
        "                                                    {'NIR':img.select('B4'), 'SWIR2':img.select('B7')}),\n",
        "                                     img.expression('((NIR + 0.1)-(SWIR2 + 0.02)) / ((NIR + 0.1)+(SWIR2 + 0.02))',\n",
        "                                                    {'NIR':img.select('B8'), 'SWIR2':img.select('B12')}))\n",
        "        gvmi = ee.Image(condition)\n",
        "        return img.addBands(gvmi.rename('GVMI')).copyProperties(img, ['system:time_start'])\n",
        "    return inner\n",
        "\n",
        "\n",
        "def RMI(img):\n",
        "    gvmi = img.select('GVMI')\n",
        "    evi = img.select('EVI')\n",
        "    rmi = gvmi.expression('gvmi - (0.775 * evi - 0.0757)',\n",
        "                          {'gvmi': gvmi, 'evi':evi}).clamp(0, 1)\n",
        "    return img.addBands(rmi.rename('RMI')).copyProperties(img, ['system:time_start'])\n",
        "\n",
        "\n",
        "def kc(img):\n",
        "    k = img.expression('0.68 * (1 - exp(-14.12 * EVIr**2.482 + -7.991 * RMI**0.89))',\n",
        "                      {'EVIr': img.select('EVIr'), 'RMI': img.select('RMI')})\n",
        "    # k = ee.Image(0.68).multiply(ee.Image(1).subtract(ee.Image(-14.12).multiply(img.select('EVIr').pow(ee.Image(2.482))).add(ee.Image(-7.991).multiply(img.select('RMI').pow(0.89))).exp()))\n",
        "    return img.addBands(k.rename('Kc')).copyProperties(img, ['system:time_start'])\n"
      ],
      "execution_count": null,
      "outputs": []
    },
    {
      "cell_type": "code",
      "metadata": {
        "id": "taGMSezno5dy"
      },
      "source": [
        "def month_aggregation(coll, start):\n",
        "    def inner(month):\n",
        "        date0 = ee.Date(start)\n",
        "        date1 = date0.advance(ee.Number(month), 'month')\n",
        "        date2 = date1.advance(1, 'month')\n",
        "        S2_m = coll.filterDate(date1, date2).mean()\n",
        "        return S2_m.setMulti({'system:time_start': date1.millis(),\n",
        "                              'system:time_end': date2.millis(),\n",
        "                              'date': date1.format('YYYY_MM_dd')})\n",
        "    return inner\n",
        "    \n",
        "\n",
        "def get_S2(geometry, start, end, monthly=None):\n",
        "    s2 = getS2_CLOUD_PROBABILITY(geometry).filterDate(ee.Date(start), ee.Date(end)).map(maskClouds)\n",
        "    if monthly:\n",
        "        months = ee.List.sequence(0, 13)\n",
        "        s2 = ee.ImageCollection.fromImages(months.map(month_aggregation(s2, start)))\n",
        "    coll = s2.map(NDVI(1)).map(EVI(1)).map(GVMI(1)).map(RMI).map(kc)\n",
        "    return coll\n",
        "    "
      ],
      "execution_count": null,
      "outputs": []
    },
    {
      "cell_type": "markdown",
      "metadata": {
        "id": "iXrooSLaSlJA"
      },
      "source": [
        "### Variables definition"
      ]
    },
    {
      "cell_type": "code",
      "metadata": {
        "id": "0okqb9SJF07v"
      },
      "source": [
        "geo1 = ee.Geometry.Point([149.981, -30.468]) #id 205\n",
        "# geo1 = ee.Geometry.Point([149.931, -30.410]) #id 13\n",
        "start_date = \"2017-07-01\"\n",
        "end_date = '2018-08-31'\n",
        "monthly = True # None for daily and True for monthly\n",
        "# geo1 = ee.Geometry.Point([149.7543738, -29.3741845])\n",
        "\n",
        "test = get_S2(geo1, start_date, end_date, monthly)\n",
        "\n",
        "# Ls = get_landsat(geo1).filterDate(\"2020-09-01\", '2021-01-01')"
      ],
      "execution_count": null,
      "outputs": []
    },
    {
      "cell_type": "code",
      "source": [
        "print(test.size().getInfo())"
      ],
      "metadata": {
        "colab": {
          "base_uri": "https://localhost:8080/"
        },
        "id": "zg7FkflxgfmS",
        "outputId": "a30451ef-0752-4f2c-9eb1-04c432730542"
      },
      "execution_count": null,
      "outputs": [
        {
          "output_type": "stream",
          "name": "stdout",
          "text": [
            "14\n"
          ]
        }
      ]
    },
    {
      "cell_type": "markdown",
      "metadata": {
        "id": "uCcSl-r-Svxx"
      },
      "source": [
        "### Reflectance, EVI, and Kc maps for month 0 (July)"
      ]
    },
    {
      "cell_type": "code",
      "metadata": {
        "colab": {
          "base_uri": "https://localhost:8080/",
          "height": 1000
        },
        "id": "LCywUPI_pGwn",
        "outputId": "5226a61f-fbd8-4517-8415-87439b9083bd"
      },
      "source": [
        "mapidCon = test.first().getMapId({'min': 0, 'max': 0.3, 'bands': ['B8', 'B4', 'B3']})\n",
        "mapidEVI = ee.Image(test.first()).select('EVI').getMapId({'min': -1, 'max': 1, 'palette': ['440154', '433982', '30678D', '218F8B', '36B677', '8ED542', 'FDE725']})\n",
        "mapidKc = ee.Image(test.first()).select('Kc').getMapId({'min': 0, 'max': 0.8, 'palette': ['440154', '433982', '30678D', '218F8B', '36B677', '8ED542', 'FDE725']})\n",
        "# mapDam = ee.Feature(ee.Feature(NSWdams.first()).geometry().buffer(200).bounds()).getMapId()\n",
        "centroid = geo1.coordinates().getInfo()[::-1]\n",
        "map = folium.Map(location=centroid, zoom_start=13)\n",
        "folium.TileLayer(\n",
        "    tiles=mapidCon['tile_fetcher'].url_format,\n",
        "    attr='Map Data &copy; <a href=\"https://earthengine.google.com/\">Google Earth Engine</a>',\n",
        "    overlay=True,\n",
        "    name='sat',\n",
        "  ).add_to(map)\n",
        "folium.TileLayer(\n",
        "    tiles=mapidEVI['tile_fetcher'].url_format,\n",
        "    attr='Map Data &copy; <a href=\"https://earthengine.google.com/\">Google Earth Engine</a>',\n",
        "    overlay=True,\n",
        "    name='NDVI',\n",
        "  ).add_to(map)\n",
        "folium.TileLayer(\n",
        "    tiles=mapidKc['tile_fetcher'].url_format,\n",
        "    attr='Map Data &copy; <a href=\"https://earthengine.google.com/\">Google Earth Engine</a>',\n",
        "    overlay=True,\n",
        "    name='Kc',\n",
        "  ).add_to(map)\n",
        "map.add_child(folium.LayerControl())\n",
        "map"
      ],
      "execution_count": null,
      "outputs": [
        {
          "output_type": "execute_result",
          "data": {
            "text/html": [
              "<div style=\"width:100%;\"><div style=\"position:relative;width:100%;height:0;padding-bottom:60%;\"><span style=\"color:#565656\">Make this Notebook Trusted to load map: File -> Trust Notebook</span><iframe src=\"about:blank\" style=\"position:absolute;width:100%;height:100%;left:0;top:0;border:none !important;\" data-html=%3C%21DOCTYPE%20html%3E%0A%3Chead%3E%20%20%20%20%0A%20%20%20%20%3Cmeta%20http-equiv%3D%22content-type%22%20content%3D%22text/html%3B%20charset%3DUTF-8%22%20/%3E%0A%20%20%20%20%3Cscript%3EL_PREFER_CANVAS%3Dfalse%3B%20L_NO_TOUCH%3Dfalse%3B%20L_DISABLE_3D%3Dfalse%3B%3C/script%3E%0A%20%20%20%20%3Cscript%20src%3D%22https%3A//cdn.jsdelivr.net/npm/leaflet%401.4.0/dist/leaflet.js%22%3E%3C/script%3E%0A%20%20%20%20%3Cscript%20src%3D%22https%3A//code.jquery.com/jquery-1.12.4.min.js%22%3E%3C/script%3E%0A%20%20%20%20%3Cscript%20src%3D%22https%3A//maxcdn.bootstrapcdn.com/bootstrap/3.2.0/js/bootstrap.min.js%22%3E%3C/script%3E%0A%20%20%20%20%3Cscript%20src%3D%22https%3A//cdnjs.cloudflare.com/ajax/libs/Leaflet.awesome-markers/2.0.2/leaflet.awesome-markers.js%22%3E%3C/script%3E%0A%20%20%20%20%3Clink%20rel%3D%22stylesheet%22%20href%3D%22https%3A//cdn.jsdelivr.net/npm/leaflet%401.4.0/dist/leaflet.css%22/%3E%0A%20%20%20%20%3Clink%20rel%3D%22stylesheet%22%20href%3D%22https%3A//maxcdn.bootstrapcdn.com/bootstrap/3.2.0/css/bootstrap.min.css%22/%3E%0A%20%20%20%20%3Clink%20rel%3D%22stylesheet%22%20href%3D%22https%3A//maxcdn.bootstrapcdn.com/bootstrap/3.2.0/css/bootstrap-theme.min.css%22/%3E%0A%20%20%20%20%3Clink%20rel%3D%22stylesheet%22%20href%3D%22https%3A//maxcdn.bootstrapcdn.com/font-awesome/4.6.3/css/font-awesome.min.css%22/%3E%0A%20%20%20%20%3Clink%20rel%3D%22stylesheet%22%20href%3D%22https%3A//cdnjs.cloudflare.com/ajax/libs/Leaflet.awesome-markers/2.0.2/leaflet.awesome-markers.css%22/%3E%0A%20%20%20%20%3Clink%20rel%3D%22stylesheet%22%20href%3D%22https%3A//rawcdn.githack.com/python-visualization/folium/master/folium/templates/leaflet.awesome.rotate.css%22/%3E%0A%20%20%20%20%3Cstyle%3Ehtml%2C%20body%20%7Bwidth%3A%20100%25%3Bheight%3A%20100%25%3Bmargin%3A%200%3Bpadding%3A%200%3B%7D%3C/style%3E%0A%20%20%20%20%3Cstyle%3E%23map%20%7Bposition%3Aabsolute%3Btop%3A0%3Bbottom%3A0%3Bright%3A0%3Bleft%3A0%3B%7D%3C/style%3E%0A%20%20%20%20%0A%20%20%20%20%3Cmeta%20name%3D%22viewport%22%20content%3D%22width%3Ddevice-width%2C%0A%20%20%20%20%20%20%20%20initial-scale%3D1.0%2C%20maximum-scale%3D1.0%2C%20user-scalable%3Dno%22%20/%3E%0A%20%20%20%20%3Cstyle%3E%23map_580b3212281a4782958bb5be9d90cfc5%20%7B%0A%20%20%20%20%20%20%20%20position%3A%20relative%3B%0A%20%20%20%20%20%20%20%20width%3A%20100.0%25%3B%0A%20%20%20%20%20%20%20%20height%3A%20100.0%25%3B%0A%20%20%20%20%20%20%20%20left%3A%200.0%25%3B%0A%20%20%20%20%20%20%20%20top%3A%200.0%25%3B%0A%20%20%20%20%20%20%20%20%7D%0A%20%20%20%20%3C/style%3E%0A%3C/head%3E%0A%3Cbody%3E%20%20%20%20%0A%20%20%20%20%0A%20%20%20%20%3Cdiv%20class%3D%22folium-map%22%20id%3D%22map_580b3212281a4782958bb5be9d90cfc5%22%20%3E%3C/div%3E%0A%3C/body%3E%0A%3Cscript%3E%20%20%20%20%0A%20%20%20%20%0A%20%20%20%20%0A%20%20%20%20%20%20%20%20var%20bounds%20%3D%20null%3B%0A%20%20%20%20%0A%0A%20%20%20%20var%20map_580b3212281a4782958bb5be9d90cfc5%20%3D%20L.map%28%0A%20%20%20%20%20%20%20%20%27map_580b3212281a4782958bb5be9d90cfc5%27%2C%20%7B%0A%20%20%20%20%20%20%20%20center%3A%20%5B-30.468%2C%20149.981%5D%2C%0A%20%20%20%20%20%20%20%20zoom%3A%2013%2C%0A%20%20%20%20%20%20%20%20maxBounds%3A%20bounds%2C%0A%20%20%20%20%20%20%20%20layers%3A%20%5B%5D%2C%0A%20%20%20%20%20%20%20%20worldCopyJump%3A%20false%2C%0A%20%20%20%20%20%20%20%20crs%3A%20L.CRS.EPSG3857%2C%0A%20%20%20%20%20%20%20%20zoomControl%3A%20true%2C%0A%20%20%20%20%20%20%20%20%7D%29%3B%0A%0A%0A%20%20%20%20%0A%20%20%20%20var%20tile_layer_97622a496f4e4ffaa42a657541dbabe8%20%3D%20L.tileLayer%28%0A%20%20%20%20%20%20%20%20%27https%3A//%7Bs%7D.tile.openstreetmap.org/%7Bz%7D/%7Bx%7D/%7By%7D.png%27%2C%0A%20%20%20%20%20%20%20%20%7B%0A%20%20%20%20%20%20%20%20%22attribution%22%3A%20null%2C%0A%20%20%20%20%20%20%20%20%22detectRetina%22%3A%20false%2C%0A%20%20%20%20%20%20%20%20%22maxNativeZoom%22%3A%2018%2C%0A%20%20%20%20%20%20%20%20%22maxZoom%22%3A%2018%2C%0A%20%20%20%20%20%20%20%20%22minZoom%22%3A%200%2C%0A%20%20%20%20%20%20%20%20%22noWrap%22%3A%20false%2C%0A%20%20%20%20%20%20%20%20%22opacity%22%3A%201%2C%0A%20%20%20%20%20%20%20%20%22subdomains%22%3A%20%22abc%22%2C%0A%20%20%20%20%20%20%20%20%22tms%22%3A%20false%0A%7D%29.addTo%28map_580b3212281a4782958bb5be9d90cfc5%29%3B%0A%20%20%20%20var%20tile_layer_504a589f6b7a40468b6a4e68ac856ee3%20%3D%20L.tileLayer%28%0A%20%20%20%20%20%20%20%20%27https%3A//earthengine.googleapis.com/v1alpha/projects/earthengine-legacy/maps/17b2d54300109c4df589d7927f5efa2f-bea841b5575cc4c4b5bc690ca5ae0365/tiles/%7Bz%7D/%7Bx%7D/%7By%7D%27%2C%0A%20%20%20%20%20%20%20%20%7B%0A%20%20%20%20%20%20%20%20%22attribution%22%3A%20%22Map%20Data%20%26copy%3B%20%3Ca%20href%3D%5C%22https%3A//earthengine.google.com/%5C%22%3EGoogle%20Earth%20Engine%3C/a%3E%22%2C%0A%20%20%20%20%20%20%20%20%22detectRetina%22%3A%20false%2C%0A%20%20%20%20%20%20%20%20%22maxNativeZoom%22%3A%2018%2C%0A%20%20%20%20%20%20%20%20%22maxZoom%22%3A%2018%2C%0A%20%20%20%20%20%20%20%20%22minZoom%22%3A%200%2C%0A%20%20%20%20%20%20%20%20%22noWrap%22%3A%20false%2C%0A%20%20%20%20%20%20%20%20%22opacity%22%3A%201%2C%0A%20%20%20%20%20%20%20%20%22subdomains%22%3A%20%22abc%22%2C%0A%20%20%20%20%20%20%20%20%22tms%22%3A%20false%0A%7D%29.addTo%28map_580b3212281a4782958bb5be9d90cfc5%29%3B%0A%20%20%20%20var%20tile_layer_8bd264a14de64f46998d3c5cab1c7a3d%20%3D%20L.tileLayer%28%0A%20%20%20%20%20%20%20%20%27https%3A//earthengine.googleapis.com/v1alpha/projects/earthengine-legacy/maps/a8449b73644b2f6761a327dc7da4d020-fc5fbbc4f4e794b4c2011315819a9ac7/tiles/%7Bz%7D/%7Bx%7D/%7By%7D%27%2C%0A%20%20%20%20%20%20%20%20%7B%0A%20%20%20%20%20%20%20%20%22attribution%22%3A%20%22Map%20Data%20%26copy%3B%20%3Ca%20href%3D%5C%22https%3A//earthengine.google.com/%5C%22%3EGoogle%20Earth%20Engine%3C/a%3E%22%2C%0A%20%20%20%20%20%20%20%20%22detectRetina%22%3A%20false%2C%0A%20%20%20%20%20%20%20%20%22maxNativeZoom%22%3A%2018%2C%0A%20%20%20%20%20%20%20%20%22maxZoom%22%3A%2018%2C%0A%20%20%20%20%20%20%20%20%22minZoom%22%3A%200%2C%0A%20%20%20%20%20%20%20%20%22noWrap%22%3A%20false%2C%0A%20%20%20%20%20%20%20%20%22opacity%22%3A%201%2C%0A%20%20%20%20%20%20%20%20%22subdomains%22%3A%20%22abc%22%2C%0A%20%20%20%20%20%20%20%20%22tms%22%3A%20false%0A%7D%29.addTo%28map_580b3212281a4782958bb5be9d90cfc5%29%3B%0A%20%20%20%20var%20tile_layer_be9fa69439844d438aefc60f55830171%20%3D%20L.tileLayer%28%0A%20%20%20%20%20%20%20%20%27https%3A//earthengine.googleapis.com/v1alpha/projects/earthengine-legacy/maps/fa247c7664c1493b5eccb22d9a2e8296-f06a6709528ac603b909a040d0a6e8df/tiles/%7Bz%7D/%7Bx%7D/%7By%7D%27%2C%0A%20%20%20%20%20%20%20%20%7B%0A%20%20%20%20%20%20%20%20%22attribution%22%3A%20%22Map%20Data%20%26copy%3B%20%3Ca%20href%3D%5C%22https%3A//earthengine.google.com/%5C%22%3EGoogle%20Earth%20Engine%3C/a%3E%22%2C%0A%20%20%20%20%20%20%20%20%22detectRetina%22%3A%20false%2C%0A%20%20%20%20%20%20%20%20%22maxNativeZoom%22%3A%2018%2C%0A%20%20%20%20%20%20%20%20%22maxZoom%22%3A%2018%2C%0A%20%20%20%20%20%20%20%20%22minZoom%22%3A%200%2C%0A%20%20%20%20%20%20%20%20%22noWrap%22%3A%20false%2C%0A%20%20%20%20%20%20%20%20%22opacity%22%3A%201%2C%0A%20%20%20%20%20%20%20%20%22subdomains%22%3A%20%22abc%22%2C%0A%20%20%20%20%20%20%20%20%22tms%22%3A%20false%0A%7D%29.addTo%28map_580b3212281a4782958bb5be9d90cfc5%29%3B%0A%20%20%20%20%0A%20%20%20%20%20%20%20%20%20%20%20%20var%20layer_control_7a15eb2b075e459da5f3ba73a42fa08b%20%3D%20%7B%0A%20%20%20%20%20%20%20%20%20%20%20%20%20%20%20%20base_layers%20%3A%20%7B%20%22openstreetmap%22%20%3A%20tile_layer_97622a496f4e4ffaa42a657541dbabe8%2C%20%7D%2C%0A%20%20%20%20%20%20%20%20%20%20%20%20%20%20%20%20overlays%20%3A%20%7B%20%22sat%22%20%3A%20tile_layer_504a589f6b7a40468b6a4e68ac856ee3%2C%22NDVI%22%20%3A%20tile_layer_8bd264a14de64f46998d3c5cab1c7a3d%2C%22Kc%22%20%3A%20tile_layer_be9fa69439844d438aefc60f55830171%2C%20%7D%0A%20%20%20%20%20%20%20%20%20%20%20%20%20%20%20%20%7D%3B%0A%20%20%20%20%20%20%20%20%20%20%20%20L.control.layers%28%0A%20%20%20%20%20%20%20%20%20%20%20%20%20%20%20%20layer_control_7a15eb2b075e459da5f3ba73a42fa08b.base_layers%2C%0A%20%20%20%20%20%20%20%20%20%20%20%20%20%20%20%20layer_control_7a15eb2b075e459da5f3ba73a42fa08b.overlays%2C%0A%20%20%20%20%20%20%20%20%20%20%20%20%20%20%20%20%7Bposition%3A%20%27topright%27%2C%0A%20%20%20%20%20%20%20%20%20%20%20%20%20%20%20%20%20collapsed%3A%20true%2C%0A%20%20%20%20%20%20%20%20%20%20%20%20%20%20%20%20%20autoZIndex%3A%20true%0A%20%20%20%20%20%20%20%20%20%20%20%20%20%20%20%20%7D%29.addTo%28map_580b3212281a4782958bb5be9d90cfc5%29%3B%0A%20%20%20%20%20%20%20%20%20%20%20%20%0A%20%20%20%20%20%20%20%20%0A%3C/script%3E onload=\"this.contentDocument.open();this.contentDocument.write(    decodeURIComponent(this.getAttribute('data-html')));this.contentDocument.close();\" allowfullscreen webkitallowfullscreen mozallowfullscreen></iframe></div></div>"
            ],
            "text/plain": [
              "<folium.folium.Map at 0x7f9d08048d50>"
            ]
          },
          "metadata": {},
          "execution_count": 51
        }
      ]
    },
    {
      "cell_type": "markdown",
      "metadata": {
        "id": "u1i7cH_fc7FT"
      },
      "source": [
        "### FAO56 ETr "
      ]
    },
    {
      "cell_type": "code",
      "metadata": {
        "colab": {
          "base_uri": "https://localhost:8080/"
        },
        "id": "LglM0sS4dghO",
        "outputId": "b55fd953-f780-4923-e145-2b09af8bb881"
      },
      "source": [
        "print(test.size().getInfo())"
      ],
      "execution_count": null,
      "outputs": [
        {
          "output_type": "stream",
          "name": "stdout",
          "text": [
            "12\n"
          ]
        }
      ]
    },
    {
      "cell_type": "code",
      "metadata": {
        "id": "IpMD8gMS4-HT"
      },
      "source": [
        "lat = ee.Image.pixelLonLat().select('latitude').multiply(np.pi / 180)\n",
        "lon = ee.Image.pixelLonLat().select('longitude').multiply(np.pi / 180)\n",
        "\n",
        "\n",
        "def select_data(monthly=None):\n",
        "    def inner(img):\n",
        "        date = ee.Date(img.get('system:time_start'))\n",
        "        if monthly:\n",
        "            gdal = ee.ImageCollection(\"NASA/FLDAS/NOAH01/C/GL/M/V001\").filterDate(date, date.advance(15, 'day')).select(['SWdown_f_tavg'])\n",
        "            radiation = gdal.first().multiply(0.0864)\n",
        "            era5 = ee.ImageCollection(\"ECMWF/ERA5/MONTHLY\").filterDate(date, date.advance(15, 'day')).first()\n",
        "            previous = ee.ImageCollection(\"ECMWF/ERA5/MONTHLY\").filterDate(date.advance(-1, 'month'), date.advance(-15, 'day')).first().select('mean_2m_air_temperature')\n",
        "            after = ee.ImageCollection(\"ECMWF/ERA5/MONTHLY\").filterDate(date.advance(1, 'month'), date.advance(45, 'day')).first().select('mean_2m_air_temperature')\n",
        "            image = era5.addBands([radiation.rename('radiation'), previous.rename('previous'), after.rename('after')]).set('system:time:start', date.millis())\n",
        "        else:\n",
        "            gdal = ee.ImageCollection(\"NASA/GLDAS/V021/NOAH/G025/T3H\").filterDate(date, date.advance(1, 'day')).select(['SWdown_f_tavg'])\n",
        "            radiation = gdal.mean().multiply(0.0864)\n",
        "            era5 = ee.ImageCollection(\"ECMWF/ERA5/DAILY\").filterDate(date, date.advance(1, 'day')).first()\n",
        "            image = era5.addBands(radiation.rename('radiation')).set('system:time:start', date.millis())\n",
        "        return image\n",
        "    return inner\n",
        "\n",
        "\n",
        "def psy(img):\n",
        "  return img.select('surface_pressure').divide(1000).multiply(0.000665)\n",
        "\n",
        "\n",
        "def vapor_pressure_func(t):\n",
        "  return t.expression('0.6108 * exp(17.27 * b() / (b() + 237.3))')\n",
        "\n",
        "\n",
        "def ETr(monthly=None):\n",
        "    def inner(img):\n",
        "\n",
        "        es_tmax = vapor_pressure_func(img.select('maximum_2m_air_temperature').subtract(273))# C\n",
        "    \n",
        "        es_tmin = vapor_pressure_func(img.select('minimum_2m_air_temperature').subtract(273))#   C\n",
        "    \n",
        "        es_tmean = vapor_pressure_func(img.select('mean_2m_air_temperature').subtract(273))\n",
        "    \n",
        "        es_slope = img.select('mean_2m_air_temperature').subtract(273).expression(\n",
        "            '2503 * exp(17.27 * b() / (b() + 237.3)) / (pow((b() + 237.3), 2))')\n",
        "    \n",
        "        es = es_tmin.add(es_tmax).multiply(0.5)\n",
        "    \n",
        "        ea = vapor_pressure_func(img.select('dewpoint_2m_temperature').subtract(273))\n",
        "        wind_speed = img.select('u_component_of_wind_10m').pow(2).add(img.select('v_component_of_wind_10m').pow(2)).sqrt()\n",
        "        wind_speed = wind_speed.multiply(4.87).divide((ee.Image(10).multiply(67.8).subtract(5.42)).log())\n",
        "    \n",
        "        second = ee.Image(psy(img)).multiply(ee.Image(900).divide(img.select('mean_2m_air_temperature'))).multiply(wind_speed).multiply(es.subtract(ea))\n",
        "        denominator = es_slope.add(ee.Image(psy(img)).multiply(wind_speed.multiply(0.34).add(1)))\n",
        "    \n",
        "    \n",
        "        rs = ee.Image(img).select(['radiation'])\n",
        "        doy = ee.Number(ee.Date(img.get('system:time_start')).getRelative('day', 'year')).add(1)\n",
        "        if monthly:\n",
        "            doy = ee.Image(30.4).multiply(ee.Date(img.get('system:time_start')).get('month')).subtract(15).round()\n",
        "        delta = doy.multiply(2 * np.pi / 365).subtract(1.39435).sin().multiply(0.40928)\n",
        "        # delta = doy.multiply(2 * np.pi / 365).subtract(1.39).sin().multiply(0.409)\n",
        "        omegas = lat.expression('acos(-tan(lat) * tan(delta))', {'lat':lat, 'delta':delta})\n",
        "        theta = omegas.expression('omegas * sin(lat) * sin(delta) + cos(lat) * cos(delta) * sin(omegas)',\n",
        "                                {'omegas':omegas, 'lat':lat, 'delta':delta})\n",
        "        \n",
        "        G = 0 # G = 0 for daily, for monthly use above equation\n",
        "        if monthly:\n",
        "            G = img.select('after').subtract(img.select('previous')).multiply(0.07)  \n",
        "        \n",
        "        dr = doy.multiply(2 * np.pi / 365).cos().multiply(0.033).add(1)\n",
        "        ra = theta.expression('(24 / pi) * gsc * dr * theta', {'pi':np.pi, 'gsc':4.92, 'dr':dr, 'theta':theta});\n",
        "        sin_beta_24 = lat.expression('sin(0.85 + 0.3 * lat * sin(delta) - 0.42 * pow(lat,2))',\n",
        "                                    {'lat':lat, 'delta':doy.multiply(2 * np.pi / 365).subtract(1.39)})\n",
        "        sin_beta_24 = sin_beta_24.where(sin_beta_24.lt(0), 0)\n",
        "        pa = img.select('surface_pressure')\n",
        "        # Precipitable water (Eqn D.3)\n",
        "        w = pa.expression('0.14 * ea * pa + 2.1',\n",
        "                        {'pa':pa, 'ea':ea})    \n",
        "        # Clearness index for direct beam radiation (Eqn D.2)\n",
        "        # Limit sin_beta >= 0.01 so that KB does not go undefined\n",
        "    \n",
        "        kb = pa.expression('0.98 * exp((-0.00146 * pa) / (kt * sin_beta) - 0.075 * pow((w / sin_beta), 0.4))',\n",
        "                        {'pa':pa, 'kt':1.0, 'sin_beta':sin_beta_24, 'w':w})\n",
        "        # Transmissivity index for diffuse radiation (Eqn D.4)\n",
        "        # kd = kb.multiply(-0.36).add(0.35)\n",
        "        # .min(kb.multiply(0.82).add(0.18));\n",
        "        kd = kb.multiply(-0.36).add(0.35).where(kb.lt(0.15), kb.multiply(0.82).add(0.18))\n",
        "        # (Eqn D.1)\n",
        "        rso = ra.multiply(kb.add(kd))\n",
        "\n",
        "        # Cloudiness fraction (Eqn 18)\n",
        "        fcd = rs.divide(rso).clamp(0.3,1).multiply(1.35).subtract(0.35)\n",
        "\n",
        "        # Net long-wave radiation (Eqn 17)\n",
        "        rnl = ea.expression('4.901 *pow(10,-9) * fcd * (0.34 - 0.14 * sqrt(ea)) * '+\n",
        "                            '(pow(tmax_k, 4) + pow(tmin_k, 4)) / 2',\n",
        "                            {'ea':ea, 'fcd':fcd, 'tmax_k':img.select('maximum_2m_air_temperature'),\n",
        "                            'tmin_k':img.select('minimum_2m_air_temperature')})\n",
        "\n",
        "        # Net radiation (Eqns 15 and 16)\n",
        "        rn = rs.multiply(0.77).subtract(rnl)\n",
        "        first = es_slope.multiply(rn.subtract(G)).multiply(0.408)\n",
        "        # days = ee.Date(img.get('system:time_start')).advance(1, 'month').difference(img.get('system:time_start'), 'day')\n",
        "        retrieve = first.add(second).divide(denominator)#.multiply(days)\n",
        "        return retrieve.where(retrieve.lte(0), 0.01).copyProperties(img, ['system:time_start'])\n",
        "    return inner\n",
        "\n",
        "\n",
        "\n",
        "def AET(monthly=None):\n",
        "    def inner(img):\n",
        "        img = ee.Image(img)\n",
        "        props = img.propertyNames()\n",
        "        meteo = ee.ImageCollection(img).map(select_data(monthly))\n",
        "        etr = ee.Image(meteo.map(ETr(monthly)).first()).resample('bicubic')\n",
        "        aet = img.select('Kc').multiply(etr)\n",
        "        return img.addBands([etr.rename('ETr'), aet.rename('AET')]).copyProperties(img, props)\n",
        "    return inner\n"
      ],
      "execution_count": null,
      "outputs": []
    },
    {
      "cell_type": "markdown",
      "metadata": {
        "id": "IzwstEsCS-zw"
      },
      "source": [
        "### Runing ETr"
      ]
    },
    {
      "cell_type": "code",
      "metadata": {
        "id": "oA8NX5dxqTYN"
      },
      "source": [
        "testing = test.map(select_data(monthly)).map(ETr(monthly))"
      ],
      "execution_count": null,
      "outputs": []
    },
    {
      "cell_type": "code",
      "metadata": {
        "colab": {
          "base_uri": "https://localhost:8080/"
        },
        "id": "vRYJWkHHeYA0",
        "outputId": "1114364e-228d-4e9d-a3ba-a75c76408b73"
      },
      "source": [
        "def to_date(stri):\n",
        "    return ee.Date(stri).format('YYYY-MM-dd')\n",
        "\n",
        "band_names = ['Jul', 'Aug', 'Sep', 'Oct', 'Nov', 'Dec',\n",
        "              'Jan', 'Feb', 'Mar', 'Apr', 'May', 'Jun', 'Jul1', 'Aug1']\n",
        "\n",
        "print(testing.aggregate_array('system:time_start').map(to_date).getInfo())\n",
        "# ee.batch.Export.image.toDrive(testing.toBands().rename(band_names).resample('bicubic'),\n",
        "#                               description='lot1_etr_1',\n",
        "#                               scale=10,\n",
        "#                               region=geometry.geometry(),\n",
        "#                               maxPixels=1e13).start()"
      ],
      "execution_count": null,
      "outputs": [
        {
          "output_type": "stream",
          "name": "stdout",
          "text": [
            "['2017-07-01', '2017-08-01', '2017-09-01', '2017-10-01', '2017-11-01', '2017-12-01', '2018-01-01', '2018-02-01', '2018-03-01', '2018-04-01', '2018-05-01', '2018-06-01', '2018-07-01', '2018-08-01']\n"
          ]
        }
      ]
    },
    {
      "cell_type": "code",
      "metadata": {
        "colab": {
          "base_uri": "https://localhost:8080/",
          "height": 1000
        },
        "id": "Y_lIkk3DlAix",
        "outputId": "5e83db5e-fc17-4188-8cd2-5dba3266f6ac"
      },
      "source": [
        "mapidCon = ee.Image(testing.toBands().rename(band_names).resample('bicubic').select('Jul')).getMapId({'min': 0, 'max': 14, 'palette': 'FF0000, FFFF00, 00FF00, 00FFFF, 0000FF'})\n",
        "centroid = geo1.coordinates().getInfo()[::-1]\n",
        "map = folium.Map(location=centroid, zoom_start=2)\n",
        "folium.TileLayer(\n",
        "    tiles=mapidCon['tile_fetcher'].url_format,\n",
        "    attr='Map Data &copy; <a href=\"https://earthengine.google.com/\">Google Earth Engine</a>',\n",
        "    overlay=True,\n",
        "    name='ETr',\n",
        "  ).add_to(map)\n",
        "\n",
        "map.add_child(folium.LayerControl())\n",
        "map"
      ],
      "execution_count": null,
      "outputs": [
        {
          "output_type": "execute_result",
          "data": {
            "text/html": [
              "<div style=\"width:100%;\"><div style=\"position:relative;width:100%;height:0;padding-bottom:60%;\"><span style=\"color:#565656\">Make this Notebook Trusted to load map: File -> Trust Notebook</span><iframe src=\"about:blank\" style=\"position:absolute;width:100%;height:100%;left:0;top:0;border:none !important;\" data-html=%3C%21DOCTYPE%20html%3E%0A%3Chead%3E%20%20%20%20%0A%20%20%20%20%3Cmeta%20http-equiv%3D%22content-type%22%20content%3D%22text/html%3B%20charset%3DUTF-8%22%20/%3E%0A%20%20%20%20%3Cscript%3EL_PREFER_CANVAS%3Dfalse%3B%20L_NO_TOUCH%3Dfalse%3B%20L_DISABLE_3D%3Dfalse%3B%3C/script%3E%0A%20%20%20%20%3Cscript%20src%3D%22https%3A//cdn.jsdelivr.net/npm/leaflet%401.4.0/dist/leaflet.js%22%3E%3C/script%3E%0A%20%20%20%20%3Cscript%20src%3D%22https%3A//code.jquery.com/jquery-1.12.4.min.js%22%3E%3C/script%3E%0A%20%20%20%20%3Cscript%20src%3D%22https%3A//maxcdn.bootstrapcdn.com/bootstrap/3.2.0/js/bootstrap.min.js%22%3E%3C/script%3E%0A%20%20%20%20%3Cscript%20src%3D%22https%3A//cdnjs.cloudflare.com/ajax/libs/Leaflet.awesome-markers/2.0.2/leaflet.awesome-markers.js%22%3E%3C/script%3E%0A%20%20%20%20%3Clink%20rel%3D%22stylesheet%22%20href%3D%22https%3A//cdn.jsdelivr.net/npm/leaflet%401.4.0/dist/leaflet.css%22/%3E%0A%20%20%20%20%3Clink%20rel%3D%22stylesheet%22%20href%3D%22https%3A//maxcdn.bootstrapcdn.com/bootstrap/3.2.0/css/bootstrap.min.css%22/%3E%0A%20%20%20%20%3Clink%20rel%3D%22stylesheet%22%20href%3D%22https%3A//maxcdn.bootstrapcdn.com/bootstrap/3.2.0/css/bootstrap-theme.min.css%22/%3E%0A%20%20%20%20%3Clink%20rel%3D%22stylesheet%22%20href%3D%22https%3A//maxcdn.bootstrapcdn.com/font-awesome/4.6.3/css/font-awesome.min.css%22/%3E%0A%20%20%20%20%3Clink%20rel%3D%22stylesheet%22%20href%3D%22https%3A//cdnjs.cloudflare.com/ajax/libs/Leaflet.awesome-markers/2.0.2/leaflet.awesome-markers.css%22/%3E%0A%20%20%20%20%3Clink%20rel%3D%22stylesheet%22%20href%3D%22https%3A//rawcdn.githack.com/python-visualization/folium/master/folium/templates/leaflet.awesome.rotate.css%22/%3E%0A%20%20%20%20%3Cstyle%3Ehtml%2C%20body%20%7Bwidth%3A%20100%25%3Bheight%3A%20100%25%3Bmargin%3A%200%3Bpadding%3A%200%3B%7D%3C/style%3E%0A%20%20%20%20%3Cstyle%3E%23map%20%7Bposition%3Aabsolute%3Btop%3A0%3Bbottom%3A0%3Bright%3A0%3Bleft%3A0%3B%7D%3C/style%3E%0A%20%20%20%20%0A%20%20%20%20%3Cmeta%20name%3D%22viewport%22%20content%3D%22width%3Ddevice-width%2C%0A%20%20%20%20%20%20%20%20initial-scale%3D1.0%2C%20maximum-scale%3D1.0%2C%20user-scalable%3Dno%22%20/%3E%0A%20%20%20%20%3Cstyle%3E%23map_0f68073b640d47f0a07f7c61da17143a%20%7B%0A%20%20%20%20%20%20%20%20position%3A%20relative%3B%0A%20%20%20%20%20%20%20%20width%3A%20100.0%25%3B%0A%20%20%20%20%20%20%20%20height%3A%20100.0%25%3B%0A%20%20%20%20%20%20%20%20left%3A%200.0%25%3B%0A%20%20%20%20%20%20%20%20top%3A%200.0%25%3B%0A%20%20%20%20%20%20%20%20%7D%0A%20%20%20%20%3C/style%3E%0A%3C/head%3E%0A%3Cbody%3E%20%20%20%20%0A%20%20%20%20%0A%20%20%20%20%3Cdiv%20class%3D%22folium-map%22%20id%3D%22map_0f68073b640d47f0a07f7c61da17143a%22%20%3E%3C/div%3E%0A%3C/body%3E%0A%3Cscript%3E%20%20%20%20%0A%20%20%20%20%0A%20%20%20%20%0A%20%20%20%20%20%20%20%20var%20bounds%20%3D%20null%3B%0A%20%20%20%20%0A%0A%20%20%20%20var%20map_0f68073b640d47f0a07f7c61da17143a%20%3D%20L.map%28%0A%20%20%20%20%20%20%20%20%27map_0f68073b640d47f0a07f7c61da17143a%27%2C%20%7B%0A%20%20%20%20%20%20%20%20center%3A%20%5B-30.468%2C%20149.981%5D%2C%0A%20%20%20%20%20%20%20%20zoom%3A%202%2C%0A%20%20%20%20%20%20%20%20maxBounds%3A%20bounds%2C%0A%20%20%20%20%20%20%20%20layers%3A%20%5B%5D%2C%0A%20%20%20%20%20%20%20%20worldCopyJump%3A%20false%2C%0A%20%20%20%20%20%20%20%20crs%3A%20L.CRS.EPSG3857%2C%0A%20%20%20%20%20%20%20%20zoomControl%3A%20true%2C%0A%20%20%20%20%20%20%20%20%7D%29%3B%0A%0A%0A%20%20%20%20%0A%20%20%20%20var%20tile_layer_94b1afa0d9c140f184524f6fe55f1532%20%3D%20L.tileLayer%28%0A%20%20%20%20%20%20%20%20%27https%3A//%7Bs%7D.tile.openstreetmap.org/%7Bz%7D/%7Bx%7D/%7By%7D.png%27%2C%0A%20%20%20%20%20%20%20%20%7B%0A%20%20%20%20%20%20%20%20%22attribution%22%3A%20null%2C%0A%20%20%20%20%20%20%20%20%22detectRetina%22%3A%20false%2C%0A%20%20%20%20%20%20%20%20%22maxNativeZoom%22%3A%2018%2C%0A%20%20%20%20%20%20%20%20%22maxZoom%22%3A%2018%2C%0A%20%20%20%20%20%20%20%20%22minZoom%22%3A%200%2C%0A%20%20%20%20%20%20%20%20%22noWrap%22%3A%20false%2C%0A%20%20%20%20%20%20%20%20%22opacity%22%3A%201%2C%0A%20%20%20%20%20%20%20%20%22subdomains%22%3A%20%22abc%22%2C%0A%20%20%20%20%20%20%20%20%22tms%22%3A%20false%0A%7D%29.addTo%28map_0f68073b640d47f0a07f7c61da17143a%29%3B%0A%20%20%20%20var%20tile_layer_efeee1ca9a2740f48013fb3213c4920d%20%3D%20L.tileLayer%28%0A%20%20%20%20%20%20%20%20%27https%3A//earthengine.googleapis.com/v1alpha/projects/earthengine-legacy/maps/f0d9a09ca8523691c215f0fa380fafc0-65beb1dda786cc901f93cd0b6c49175c/tiles/%7Bz%7D/%7Bx%7D/%7By%7D%27%2C%0A%20%20%20%20%20%20%20%20%7B%0A%20%20%20%20%20%20%20%20%22attribution%22%3A%20%22Map%20Data%20%26copy%3B%20%3Ca%20href%3D%5C%22https%3A//earthengine.google.com/%5C%22%3EGoogle%20Earth%20Engine%3C/a%3E%22%2C%0A%20%20%20%20%20%20%20%20%22detectRetina%22%3A%20false%2C%0A%20%20%20%20%20%20%20%20%22maxNativeZoom%22%3A%2018%2C%0A%20%20%20%20%20%20%20%20%22maxZoom%22%3A%2018%2C%0A%20%20%20%20%20%20%20%20%22minZoom%22%3A%200%2C%0A%20%20%20%20%20%20%20%20%22noWrap%22%3A%20false%2C%0A%20%20%20%20%20%20%20%20%22opacity%22%3A%201%2C%0A%20%20%20%20%20%20%20%20%22subdomains%22%3A%20%22abc%22%2C%0A%20%20%20%20%20%20%20%20%22tms%22%3A%20false%0A%7D%29.addTo%28map_0f68073b640d47f0a07f7c61da17143a%29%3B%0A%20%20%20%20%0A%20%20%20%20%20%20%20%20%20%20%20%20var%20layer_control_15655be6640246c69df1b08034c3509f%20%3D%20%7B%0A%20%20%20%20%20%20%20%20%20%20%20%20%20%20%20%20base_layers%20%3A%20%7B%20%22openstreetmap%22%20%3A%20tile_layer_94b1afa0d9c140f184524f6fe55f1532%2C%20%7D%2C%0A%20%20%20%20%20%20%20%20%20%20%20%20%20%20%20%20overlays%20%3A%20%7B%20%22ETr%22%20%3A%20tile_layer_efeee1ca9a2740f48013fb3213c4920d%2C%20%7D%0A%20%20%20%20%20%20%20%20%20%20%20%20%20%20%20%20%7D%3B%0A%20%20%20%20%20%20%20%20%20%20%20%20L.control.layers%28%0A%20%20%20%20%20%20%20%20%20%20%20%20%20%20%20%20layer_control_15655be6640246c69df1b08034c3509f.base_layers%2C%0A%20%20%20%20%20%20%20%20%20%20%20%20%20%20%20%20layer_control_15655be6640246c69df1b08034c3509f.overlays%2C%0A%20%20%20%20%20%20%20%20%20%20%20%20%20%20%20%20%7Bposition%3A%20%27topright%27%2C%0A%20%20%20%20%20%20%20%20%20%20%20%20%20%20%20%20%20collapsed%3A%20true%2C%0A%20%20%20%20%20%20%20%20%20%20%20%20%20%20%20%20%20autoZIndex%3A%20true%0A%20%20%20%20%20%20%20%20%20%20%20%20%20%20%20%20%7D%29.addTo%28map_0f68073b640d47f0a07f7c61da17143a%29%3B%0A%20%20%20%20%20%20%20%20%20%20%20%20%0A%20%20%20%20%20%20%20%20%0A%3C/script%3E onload=\"this.contentDocument.open();this.contentDocument.write(    decodeURIComponent(this.getAttribute('data-html')));this.contentDocument.close();\" allowfullscreen webkitallowfullscreen mozallowfullscreen></iframe></div></div>"
            ],
            "text/plain": [
              "<folium.folium.Map at 0x7f9d0cea36d0>"
            ]
          },
          "metadata": {},
          "execution_count": 55
        }
      ]
    },
    {
      "cell_type": "markdown",
      "metadata": {
        "id": "3aCTuqAtTNRq"
      },
      "source": [
        "### ETr map for july"
      ]
    },
    {
      "cell_type": "code",
      "metadata": {
        "colab": {
          "base_uri": "https://localhost:8080/",
          "height": 1000
        },
        "id": "5G6VefBZAZ_N",
        "outputId": "700f4ee3-1161-4561-ae5d-7615643bdf86"
      },
      "source": [
        "mapidCon = ee.Image(testing.first()).resample('bicubic').getMapId({'min': 0, 'max': 14, 'palette': 'FF0000, FFFF00, 00FF00, 00FFFF, 0000FF'})\n",
        "centroid = geo1.coordinates().getInfo()[::-1]\n",
        "map = folium.Map(location=centroid, zoom_start=2)\n",
        "folium.TileLayer(\n",
        "    tiles=mapidCon['tile_fetcher'].url_format,\n",
        "    attr='Map Data &copy; <a href=\"https://earthengine.google.com/\">Google Earth Engine</a>',\n",
        "    overlay=True,\n",
        "    name='ETr',\n",
        "  ).add_to(map)\n",
        "\n",
        "map.add_child(folium.LayerControl())\n",
        "map"
      ],
      "execution_count": null,
      "outputs": [
        {
          "output_type": "execute_result",
          "data": {
            "text/html": [
              "<div style=\"width:100%;\"><div style=\"position:relative;width:100%;height:0;padding-bottom:60%;\"><span style=\"color:#565656\">Make this Notebook Trusted to load map: File -> Trust Notebook</span><iframe src=\"about:blank\" style=\"position:absolute;width:100%;height:100%;left:0;top:0;border:none !important;\" data-html=%3C%21DOCTYPE%20html%3E%0A%3Chead%3E%20%20%20%20%0A%20%20%20%20%3Cmeta%20http-equiv%3D%22content-type%22%20content%3D%22text/html%3B%20charset%3DUTF-8%22%20/%3E%0A%20%20%20%20%3Cscript%3EL_PREFER_CANVAS%3Dfalse%3B%20L_NO_TOUCH%3Dfalse%3B%20L_DISABLE_3D%3Dfalse%3B%3C/script%3E%0A%20%20%20%20%3Cscript%20src%3D%22https%3A//cdn.jsdelivr.net/npm/leaflet%401.4.0/dist/leaflet.js%22%3E%3C/script%3E%0A%20%20%20%20%3Cscript%20src%3D%22https%3A//code.jquery.com/jquery-1.12.4.min.js%22%3E%3C/script%3E%0A%20%20%20%20%3Cscript%20src%3D%22https%3A//maxcdn.bootstrapcdn.com/bootstrap/3.2.0/js/bootstrap.min.js%22%3E%3C/script%3E%0A%20%20%20%20%3Cscript%20src%3D%22https%3A//cdnjs.cloudflare.com/ajax/libs/Leaflet.awesome-markers/2.0.2/leaflet.awesome-markers.js%22%3E%3C/script%3E%0A%20%20%20%20%3Clink%20rel%3D%22stylesheet%22%20href%3D%22https%3A//cdn.jsdelivr.net/npm/leaflet%401.4.0/dist/leaflet.css%22/%3E%0A%20%20%20%20%3Clink%20rel%3D%22stylesheet%22%20href%3D%22https%3A//maxcdn.bootstrapcdn.com/bootstrap/3.2.0/css/bootstrap.min.css%22/%3E%0A%20%20%20%20%3Clink%20rel%3D%22stylesheet%22%20href%3D%22https%3A//maxcdn.bootstrapcdn.com/bootstrap/3.2.0/css/bootstrap-theme.min.css%22/%3E%0A%20%20%20%20%3Clink%20rel%3D%22stylesheet%22%20href%3D%22https%3A//maxcdn.bootstrapcdn.com/font-awesome/4.6.3/css/font-awesome.min.css%22/%3E%0A%20%20%20%20%3Clink%20rel%3D%22stylesheet%22%20href%3D%22https%3A//cdnjs.cloudflare.com/ajax/libs/Leaflet.awesome-markers/2.0.2/leaflet.awesome-markers.css%22/%3E%0A%20%20%20%20%3Clink%20rel%3D%22stylesheet%22%20href%3D%22https%3A//rawcdn.githack.com/python-visualization/folium/master/folium/templates/leaflet.awesome.rotate.css%22/%3E%0A%20%20%20%20%3Cstyle%3Ehtml%2C%20body%20%7Bwidth%3A%20100%25%3Bheight%3A%20100%25%3Bmargin%3A%200%3Bpadding%3A%200%3B%7D%3C/style%3E%0A%20%20%20%20%3Cstyle%3E%23map%20%7Bposition%3Aabsolute%3Btop%3A0%3Bbottom%3A0%3Bright%3A0%3Bleft%3A0%3B%7D%3C/style%3E%0A%20%20%20%20%0A%20%20%20%20%3Cmeta%20name%3D%22viewport%22%20content%3D%22width%3Ddevice-width%2C%0A%20%20%20%20%20%20%20%20initial-scale%3D1.0%2C%20maximum-scale%3D1.0%2C%20user-scalable%3Dno%22%20/%3E%0A%20%20%20%20%3Cstyle%3E%23map_eb5e108f7bf2405bac928f89bf9404c0%20%7B%0A%20%20%20%20%20%20%20%20position%3A%20relative%3B%0A%20%20%20%20%20%20%20%20width%3A%20100.0%25%3B%0A%20%20%20%20%20%20%20%20height%3A%20100.0%25%3B%0A%20%20%20%20%20%20%20%20left%3A%200.0%25%3B%0A%20%20%20%20%20%20%20%20top%3A%200.0%25%3B%0A%20%20%20%20%20%20%20%20%7D%0A%20%20%20%20%3C/style%3E%0A%3C/head%3E%0A%3Cbody%3E%20%20%20%20%0A%20%20%20%20%0A%20%20%20%20%3Cdiv%20class%3D%22folium-map%22%20id%3D%22map_eb5e108f7bf2405bac928f89bf9404c0%22%20%3E%3C/div%3E%0A%3C/body%3E%0A%3Cscript%3E%20%20%20%20%0A%20%20%20%20%0A%20%20%20%20%0A%20%20%20%20%20%20%20%20var%20bounds%20%3D%20null%3B%0A%20%20%20%20%0A%0A%20%20%20%20var%20map_eb5e108f7bf2405bac928f89bf9404c0%20%3D%20L.map%28%0A%20%20%20%20%20%20%20%20%27map_eb5e108f7bf2405bac928f89bf9404c0%27%2C%20%7B%0A%20%20%20%20%20%20%20%20center%3A%20%5B-30.468%2C%20149.981%5D%2C%0A%20%20%20%20%20%20%20%20zoom%3A%202%2C%0A%20%20%20%20%20%20%20%20maxBounds%3A%20bounds%2C%0A%20%20%20%20%20%20%20%20layers%3A%20%5B%5D%2C%0A%20%20%20%20%20%20%20%20worldCopyJump%3A%20false%2C%0A%20%20%20%20%20%20%20%20crs%3A%20L.CRS.EPSG3857%2C%0A%20%20%20%20%20%20%20%20zoomControl%3A%20true%2C%0A%20%20%20%20%20%20%20%20%7D%29%3B%0A%0A%0A%20%20%20%20%0A%20%20%20%20var%20tile_layer_346f7d100d14427c94eaa35aebe0285d%20%3D%20L.tileLayer%28%0A%20%20%20%20%20%20%20%20%27https%3A//%7Bs%7D.tile.openstreetmap.org/%7Bz%7D/%7Bx%7D/%7By%7D.png%27%2C%0A%20%20%20%20%20%20%20%20%7B%0A%20%20%20%20%20%20%20%20%22attribution%22%3A%20null%2C%0A%20%20%20%20%20%20%20%20%22detectRetina%22%3A%20false%2C%0A%20%20%20%20%20%20%20%20%22maxNativeZoom%22%3A%2018%2C%0A%20%20%20%20%20%20%20%20%22maxZoom%22%3A%2018%2C%0A%20%20%20%20%20%20%20%20%22minZoom%22%3A%200%2C%0A%20%20%20%20%20%20%20%20%22noWrap%22%3A%20false%2C%0A%20%20%20%20%20%20%20%20%22opacity%22%3A%201%2C%0A%20%20%20%20%20%20%20%20%22subdomains%22%3A%20%22abc%22%2C%0A%20%20%20%20%20%20%20%20%22tms%22%3A%20false%0A%7D%29.addTo%28map_eb5e108f7bf2405bac928f89bf9404c0%29%3B%0A%20%20%20%20var%20tile_layer_ac30487c538b4a3a8702910cd44ac6f4%20%3D%20L.tileLayer%28%0A%20%20%20%20%20%20%20%20%27https%3A//earthengine.googleapis.com/v1alpha/projects/earthengine-legacy/maps/aaa58a9a7e294a1e8a69d2adccd72c90-020db03f3e425dfeb52c2528bb1d68ae/tiles/%7Bz%7D/%7Bx%7D/%7By%7D%27%2C%0A%20%20%20%20%20%20%20%20%7B%0A%20%20%20%20%20%20%20%20%22attribution%22%3A%20%22Map%20Data%20%26copy%3B%20%3Ca%20href%3D%5C%22https%3A//earthengine.google.com/%5C%22%3EGoogle%20Earth%20Engine%3C/a%3E%22%2C%0A%20%20%20%20%20%20%20%20%22detectRetina%22%3A%20false%2C%0A%20%20%20%20%20%20%20%20%22maxNativeZoom%22%3A%2018%2C%0A%20%20%20%20%20%20%20%20%22maxZoom%22%3A%2018%2C%0A%20%20%20%20%20%20%20%20%22minZoom%22%3A%200%2C%0A%20%20%20%20%20%20%20%20%22noWrap%22%3A%20false%2C%0A%20%20%20%20%20%20%20%20%22opacity%22%3A%201%2C%0A%20%20%20%20%20%20%20%20%22subdomains%22%3A%20%22abc%22%2C%0A%20%20%20%20%20%20%20%20%22tms%22%3A%20false%0A%7D%29.addTo%28map_eb5e108f7bf2405bac928f89bf9404c0%29%3B%0A%20%20%20%20%0A%20%20%20%20%20%20%20%20%20%20%20%20var%20layer_control_b9810eb5b15d4ad286f4f895cdae299b%20%3D%20%7B%0A%20%20%20%20%20%20%20%20%20%20%20%20%20%20%20%20base_layers%20%3A%20%7B%20%22openstreetmap%22%20%3A%20tile_layer_346f7d100d14427c94eaa35aebe0285d%2C%20%7D%2C%0A%20%20%20%20%20%20%20%20%20%20%20%20%20%20%20%20overlays%20%3A%20%7B%20%22ETr%22%20%3A%20tile_layer_ac30487c538b4a3a8702910cd44ac6f4%2C%20%7D%0A%20%20%20%20%20%20%20%20%20%20%20%20%20%20%20%20%7D%3B%0A%20%20%20%20%20%20%20%20%20%20%20%20L.control.layers%28%0A%20%20%20%20%20%20%20%20%20%20%20%20%20%20%20%20layer_control_b9810eb5b15d4ad286f4f895cdae299b.base_layers%2C%0A%20%20%20%20%20%20%20%20%20%20%20%20%20%20%20%20layer_control_b9810eb5b15d4ad286f4f895cdae299b.overlays%2C%0A%20%20%20%20%20%20%20%20%20%20%20%20%20%20%20%20%7Bposition%3A%20%27topright%27%2C%0A%20%20%20%20%20%20%20%20%20%20%20%20%20%20%20%20%20collapsed%3A%20true%2C%0A%20%20%20%20%20%20%20%20%20%20%20%20%20%20%20%20%20autoZIndex%3A%20true%0A%20%20%20%20%20%20%20%20%20%20%20%20%20%20%20%20%7D%29.addTo%28map_eb5e108f7bf2405bac928f89bf9404c0%29%3B%0A%20%20%20%20%20%20%20%20%20%20%20%20%0A%20%20%20%20%20%20%20%20%0A%3C/script%3E onload=\"this.contentDocument.open();this.contentDocument.write(    decodeURIComponent(this.getAttribute('data-html')));this.contentDocument.close();\" allowfullscreen webkitallowfullscreen mozallowfullscreen></iframe></div></div>"
            ],
            "text/plain": [
              "<folium.folium.Map at 0x7f9d080eec10>"
            ]
          },
          "metadata": {},
          "execution_count": 56
        }
      ]
    },
    {
      "cell_type": "markdown",
      "metadata": {
        "id": "GKnocbMSTTja"
      },
      "source": [
        "## Monthly average ETr plot for paddock"
      ]
    },
    {
      "cell_type": "code",
      "metadata": {
        "id": "y0iW2RD2Dqb1"
      },
      "source": [
        "lots = ee.FeatureCollection(\"users/ignisfausto/clusters\")\n",
        "ex = lots.filter(ee.Filter.eq('C_ID', 205)) # 13 or 205\n",
        "geometry = ee.Feature(ex.first())\n",
        "area = geometry.area().getInfo()\n",
        "width = 1\n",
        "if monthly:\n",
        "    width=5"
      ],
      "execution_count": null,
      "outputs": []
    },
    {
      "cell_type": "code",
      "source": [
        "geometry2.area(1).getInfo()/10000"
      ],
      "metadata": {
        "colab": {
          "base_uri": "https://localhost:8080/"
        },
        "id": "D5OUPPwsnZ2B",
        "outputId": "41c28772-1ede-44b4-cbb0-dbe6e5c23110"
      },
      "execution_count": null,
      "outputs": [
        {
          "output_type": "execute_result",
          "data": {
            "text/plain": [
              "1032.5704869982626"
            ]
          },
          "metadata": {},
          "execution_count": 14
        }
      ]
    },
    {
      "cell_type": "code",
      "metadata": {
        "id": "gdt4nTlBcOfi"
      },
      "source": [
        "ex2 = lots.filter(ee.Filter.eq('C_ID', 13)) # 13 or 205\n",
        "geometry2 = ee.Feature(ex2.first())\n",
        "area2 = geometry2.area().getInfo()\n",
        "width = 1\n",
        "if monthly:\n",
        "    width=5"
      ],
      "execution_count": null,
      "outputs": []
    },
    {
      "cell_type": "code",
      "source": [
        "mapidCon = geometry.getMapId()\n",
        "mapidEVI = geometry2.getMapId()\n",
        "# mapDam = ee.Feature(ee.Feature(NSWdams.first()).geometry().buffer(200).bounds()).getMapId()\n",
        "centroid = geo1.coordinates().getInfo()[::-1]\n",
        "map = folium.Map(location=centroid, zoom_start=13)\n",
        "folium.TileLayer(\n",
        "    tiles=mapidCon['tile_fetcher'].url_format,\n",
        "    attr='Map Data &copy; <a href=\"https://earthengine.google.com/\">Google Earth Engine</a>',\n",
        "    overlay=True,\n",
        "    name='sat',\n",
        "  ).add_to(map)\n",
        "folium.TileLayer(\n",
        "    tiles=mapidEVI['tile_fetcher'].url_format,\n",
        "    attr='Map Data &copy; <a href=\"https://earthengine.google.com/\">Google Earth Engine</a>',\n",
        "    overlay=True,\n",
        "    name='NDVI',\n",
        "  ).add_to(map)\n",
        "map.add_child(folium.LayerControl())\n",
        "map"
      ],
      "metadata": {
        "colab": {
          "base_uri": "https://localhost:8080/",
          "height": 1000
        },
        "id": "gv5zA12Vsz0F",
        "outputId": "f5d39129-3630-4a52-b619-6cf8b637aa96"
      },
      "execution_count": null,
      "outputs": [
        {
          "output_type": "execute_result",
          "data": {
            "text/html": [
              "<div style=\"width:100%;\"><div style=\"position:relative;width:100%;height:0;padding-bottom:60%;\"><span style=\"color:#565656\">Make this Notebook Trusted to load map: File -> Trust Notebook</span><iframe src=\"about:blank\" style=\"position:absolute;width:100%;height:100%;left:0;top:0;border:none !important;\" data-html=%3C%21DOCTYPE%20html%3E%0A%3Chead%3E%20%20%20%20%0A%20%20%20%20%3Cmeta%20http-equiv%3D%22content-type%22%20content%3D%22text/html%3B%20charset%3DUTF-8%22%20/%3E%0A%20%20%20%20%3Cscript%3EL_PREFER_CANVAS%3Dfalse%3B%20L_NO_TOUCH%3Dfalse%3B%20L_DISABLE_3D%3Dfalse%3B%3C/script%3E%0A%20%20%20%20%3Cscript%20src%3D%22https%3A//cdn.jsdelivr.net/npm/leaflet%401.4.0/dist/leaflet.js%22%3E%3C/script%3E%0A%20%20%20%20%3Cscript%20src%3D%22https%3A//code.jquery.com/jquery-1.12.4.min.js%22%3E%3C/script%3E%0A%20%20%20%20%3Cscript%20src%3D%22https%3A//maxcdn.bootstrapcdn.com/bootstrap/3.2.0/js/bootstrap.min.js%22%3E%3C/script%3E%0A%20%20%20%20%3Cscript%20src%3D%22https%3A//cdnjs.cloudflare.com/ajax/libs/Leaflet.awesome-markers/2.0.2/leaflet.awesome-markers.js%22%3E%3C/script%3E%0A%20%20%20%20%3Clink%20rel%3D%22stylesheet%22%20href%3D%22https%3A//cdn.jsdelivr.net/npm/leaflet%401.4.0/dist/leaflet.css%22/%3E%0A%20%20%20%20%3Clink%20rel%3D%22stylesheet%22%20href%3D%22https%3A//maxcdn.bootstrapcdn.com/bootstrap/3.2.0/css/bootstrap.min.css%22/%3E%0A%20%20%20%20%3Clink%20rel%3D%22stylesheet%22%20href%3D%22https%3A//maxcdn.bootstrapcdn.com/bootstrap/3.2.0/css/bootstrap-theme.min.css%22/%3E%0A%20%20%20%20%3Clink%20rel%3D%22stylesheet%22%20href%3D%22https%3A//maxcdn.bootstrapcdn.com/font-awesome/4.6.3/css/font-awesome.min.css%22/%3E%0A%20%20%20%20%3Clink%20rel%3D%22stylesheet%22%20href%3D%22https%3A//cdnjs.cloudflare.com/ajax/libs/Leaflet.awesome-markers/2.0.2/leaflet.awesome-markers.css%22/%3E%0A%20%20%20%20%3Clink%20rel%3D%22stylesheet%22%20href%3D%22https%3A//rawcdn.githack.com/python-visualization/folium/master/folium/templates/leaflet.awesome.rotate.css%22/%3E%0A%20%20%20%20%3Cstyle%3Ehtml%2C%20body%20%7Bwidth%3A%20100%25%3Bheight%3A%20100%25%3Bmargin%3A%200%3Bpadding%3A%200%3B%7D%3C/style%3E%0A%20%20%20%20%3Cstyle%3E%23map%20%7Bposition%3Aabsolute%3Btop%3A0%3Bbottom%3A0%3Bright%3A0%3Bleft%3A0%3B%7D%3C/style%3E%0A%20%20%20%20%0A%20%20%20%20%3Cmeta%20name%3D%22viewport%22%20content%3D%22width%3Ddevice-width%2C%0A%20%20%20%20%20%20%20%20initial-scale%3D1.0%2C%20maximum-scale%3D1.0%2C%20user-scalable%3Dno%22%20/%3E%0A%20%20%20%20%3Cstyle%3E%23map_8514988cfd6f4793aad3fe5650b77751%20%7B%0A%20%20%20%20%20%20%20%20position%3A%20relative%3B%0A%20%20%20%20%20%20%20%20width%3A%20100.0%25%3B%0A%20%20%20%20%20%20%20%20height%3A%20100.0%25%3B%0A%20%20%20%20%20%20%20%20left%3A%200.0%25%3B%0A%20%20%20%20%20%20%20%20top%3A%200.0%25%3B%0A%20%20%20%20%20%20%20%20%7D%0A%20%20%20%20%3C/style%3E%0A%3C/head%3E%0A%3Cbody%3E%20%20%20%20%0A%20%20%20%20%0A%20%20%20%20%3Cdiv%20class%3D%22folium-map%22%20id%3D%22map_8514988cfd6f4793aad3fe5650b77751%22%20%3E%3C/div%3E%0A%3C/body%3E%0A%3Cscript%3E%20%20%20%20%0A%20%20%20%20%0A%20%20%20%20%0A%20%20%20%20%20%20%20%20var%20bounds%20%3D%20null%3B%0A%20%20%20%20%0A%0A%20%20%20%20var%20map_8514988cfd6f4793aad3fe5650b77751%20%3D%20L.map%28%0A%20%20%20%20%20%20%20%20%27map_8514988cfd6f4793aad3fe5650b77751%27%2C%20%7B%0A%20%20%20%20%20%20%20%20center%3A%20%5B-30.468%2C%20149.981%5D%2C%0A%20%20%20%20%20%20%20%20zoom%3A%2013%2C%0A%20%20%20%20%20%20%20%20maxBounds%3A%20bounds%2C%0A%20%20%20%20%20%20%20%20layers%3A%20%5B%5D%2C%0A%20%20%20%20%20%20%20%20worldCopyJump%3A%20false%2C%0A%20%20%20%20%20%20%20%20crs%3A%20L.CRS.EPSG3857%2C%0A%20%20%20%20%20%20%20%20zoomControl%3A%20true%2C%0A%20%20%20%20%20%20%20%20%7D%29%3B%0A%0A%0A%20%20%20%20%0A%20%20%20%20var%20tile_layer_79d84fd87d694771a915e7598350a971%20%3D%20L.tileLayer%28%0A%20%20%20%20%20%20%20%20%27https%3A//%7Bs%7D.tile.openstreetmap.org/%7Bz%7D/%7Bx%7D/%7By%7D.png%27%2C%0A%20%20%20%20%20%20%20%20%7B%0A%20%20%20%20%20%20%20%20%22attribution%22%3A%20null%2C%0A%20%20%20%20%20%20%20%20%22detectRetina%22%3A%20false%2C%0A%20%20%20%20%20%20%20%20%22maxNativeZoom%22%3A%2018%2C%0A%20%20%20%20%20%20%20%20%22maxZoom%22%3A%2018%2C%0A%20%20%20%20%20%20%20%20%22minZoom%22%3A%200%2C%0A%20%20%20%20%20%20%20%20%22noWrap%22%3A%20false%2C%0A%20%20%20%20%20%20%20%20%22opacity%22%3A%201%2C%0A%20%20%20%20%20%20%20%20%22subdomains%22%3A%20%22abc%22%2C%0A%20%20%20%20%20%20%20%20%22tms%22%3A%20false%0A%7D%29.addTo%28map_8514988cfd6f4793aad3fe5650b77751%29%3B%0A%20%20%20%20var%20tile_layer_72507ccf97fe4d7381ae4c3f2d6f023d%20%3D%20L.tileLayer%28%0A%20%20%20%20%20%20%20%20%27https%3A//earthengine.googleapis.com/v1alpha/projects/earthengine-legacy/maps/678870393f8b6165af61ee9aa52d4c98-9757921b004ff1ba392bb143117e7083/tiles/%7Bz%7D/%7Bx%7D/%7By%7D%27%2C%0A%20%20%20%20%20%20%20%20%7B%0A%20%20%20%20%20%20%20%20%22attribution%22%3A%20%22Map%20Data%20%26copy%3B%20%3Ca%20href%3D%5C%22https%3A//earthengine.google.com/%5C%22%3EGoogle%20Earth%20Engine%3C/a%3E%22%2C%0A%20%20%20%20%20%20%20%20%22detectRetina%22%3A%20false%2C%0A%20%20%20%20%20%20%20%20%22maxNativeZoom%22%3A%2018%2C%0A%20%20%20%20%20%20%20%20%22maxZoom%22%3A%2018%2C%0A%20%20%20%20%20%20%20%20%22minZoom%22%3A%200%2C%0A%20%20%20%20%20%20%20%20%22noWrap%22%3A%20false%2C%0A%20%20%20%20%20%20%20%20%22opacity%22%3A%201%2C%0A%20%20%20%20%20%20%20%20%22subdomains%22%3A%20%22abc%22%2C%0A%20%20%20%20%20%20%20%20%22tms%22%3A%20false%0A%7D%29.addTo%28map_8514988cfd6f4793aad3fe5650b77751%29%3B%0A%20%20%20%20var%20tile_layer_1916f126377b48378f8739a67847e63a%20%3D%20L.tileLayer%28%0A%20%20%20%20%20%20%20%20%27https%3A//earthengine.googleapis.com/v1alpha/projects/earthengine-legacy/maps/ca54431f00555ec9dcae0429beddeefd-2416ea09bcfef654d23d7143fdeef9b2/tiles/%7Bz%7D/%7Bx%7D/%7By%7D%27%2C%0A%20%20%20%20%20%20%20%20%7B%0A%20%20%20%20%20%20%20%20%22attribution%22%3A%20%22Map%20Data%20%26copy%3B%20%3Ca%20href%3D%5C%22https%3A//earthengine.google.com/%5C%22%3EGoogle%20Earth%20Engine%3C/a%3E%22%2C%0A%20%20%20%20%20%20%20%20%22detectRetina%22%3A%20false%2C%0A%20%20%20%20%20%20%20%20%22maxNativeZoom%22%3A%2018%2C%0A%20%20%20%20%20%20%20%20%22maxZoom%22%3A%2018%2C%0A%20%20%20%20%20%20%20%20%22minZoom%22%3A%200%2C%0A%20%20%20%20%20%20%20%20%22noWrap%22%3A%20false%2C%0A%20%20%20%20%20%20%20%20%22opacity%22%3A%201%2C%0A%20%20%20%20%20%20%20%20%22subdomains%22%3A%20%22abc%22%2C%0A%20%20%20%20%20%20%20%20%22tms%22%3A%20false%0A%7D%29.addTo%28map_8514988cfd6f4793aad3fe5650b77751%29%3B%0A%20%20%20%20%0A%20%20%20%20%20%20%20%20%20%20%20%20var%20layer_control_43da130e4150495da0dd8752e8131ee6%20%3D%20%7B%0A%20%20%20%20%20%20%20%20%20%20%20%20%20%20%20%20base_layers%20%3A%20%7B%20%22openstreetmap%22%20%3A%20tile_layer_79d84fd87d694771a915e7598350a971%2C%20%7D%2C%0A%20%20%20%20%20%20%20%20%20%20%20%20%20%20%20%20overlays%20%3A%20%7B%20%22sat%22%20%3A%20tile_layer_72507ccf97fe4d7381ae4c3f2d6f023d%2C%22NDVI%22%20%3A%20tile_layer_1916f126377b48378f8739a67847e63a%2C%20%7D%0A%20%20%20%20%20%20%20%20%20%20%20%20%20%20%20%20%7D%3B%0A%20%20%20%20%20%20%20%20%20%20%20%20L.control.layers%28%0A%20%20%20%20%20%20%20%20%20%20%20%20%20%20%20%20layer_control_43da130e4150495da0dd8752e8131ee6.base_layers%2C%0A%20%20%20%20%20%20%20%20%20%20%20%20%20%20%20%20layer_control_43da130e4150495da0dd8752e8131ee6.overlays%2C%0A%20%20%20%20%20%20%20%20%20%20%20%20%20%20%20%20%7Bposition%3A%20%27topright%27%2C%0A%20%20%20%20%20%20%20%20%20%20%20%20%20%20%20%20%20collapsed%3A%20true%2C%0A%20%20%20%20%20%20%20%20%20%20%20%20%20%20%20%20%20autoZIndex%3A%20true%0A%20%20%20%20%20%20%20%20%20%20%20%20%20%20%20%20%7D%29.addTo%28map_8514988cfd6f4793aad3fe5650b77751%29%3B%0A%20%20%20%20%20%20%20%20%20%20%20%20%0A%20%20%20%20%20%20%20%20%0A%3C/script%3E onload=\"this.contentDocument.open();this.contentDocument.write(    decodeURIComponent(this.getAttribute('data-html')));this.contentDocument.close();\" allowfullscreen webkitallowfullscreen mozallowfullscreen></iframe></div></div>"
            ],
            "text/plain": [
              "<folium.folium.Map at 0x7fb31201af90>"
            ]
          },
          "metadata": {},
          "execution_count": 10
        }
      ]
    },
    {
      "cell_type": "code",
      "metadata": {
        "colab": {
          "base_uri": "https://localhost:8080/",
          "height": 292
        },
        "id": "amQp98_EBVcv",
        "outputId": "6c611da7-8f43-45fc-9775-c21b0207fde6"
      },
      "source": [
        "def sample(geo):\n",
        "    def inner(img):\n",
        "        etr = img.reduceRegion('mean', geometry.geometry(), 1000).values().get(0)\n",
        "        date = ee.Date(img.get('system:time_start'))\n",
        "        return ee.Feature(None, {'date':date.format('YYYY_MM_dd'),'etr':etr})\n",
        "    return inner\n",
        "\n",
        "etr_coll = testing.map(sample(geometry)).getInfo()\n",
        "fig, ax = plt.subplots()\n",
        "ax.bar([pd.to_datetime(n['properties']['date'], format='%Y_%m_%d') for n in etr_coll['features']],\n",
        "         [n['properties']['etr'] for n in etr_coll['features']], width=10)\n",
        "ax.set_ylabel('Mean monthly $ETr$ (mm)', fontsize=14)\n",
        "ax.tick_params(axis='both', labelsize=12)\n",
        "ax.tick_params(axis='x', labelsize=12, rotation=330)\n",
        "ax.xaxis_date()"
      ],
      "execution_count": null,
      "outputs": [
        {
          "output_type": "display_data",
          "data": {
            "image/png": "[encoded data removed]",
            "text/plain": [
              "<Figure size 432x288 with 1 Axes>"
            ]
          },
          "metadata": {
            "needs_background": "light"
          }
        }
      ]
    },
    {
      "cell_type": "code",
      "metadata": {
        "id": "i0fzcESAPEHU",
        "colab": {
          "base_uri": "https://localhost:8080/",
          "height": 348
        },
        "outputId": "56474d5a-b883-40c4-88dc-c48107bc93e2"
      },
      "source": [
        "# for article\n",
        "\n",
        "from datetime import datetime, timedelta\n",
        "\n",
        "\n",
        "def sample(x):\n",
        "    def inner(img):\n",
        "        etr = img.reduceRegion('mean', x.geometry(), 1000).values().get(0)\n",
        "        date = ee.Date(img.get('system:time_start'))\n",
        "        return ee.Feature(None, {'date':date.format('YYYY_MM_dd'),'etr':etr})\n",
        "    return inner\n",
        "\n",
        "etr_coll2 = testing.map(sample(geometry)).getInfo()\n",
        "fig, ax = plt.subplots()\n",
        "ax.bar([pd.to_datetime(n['properties']['date'], format='%Y_%m_%d') - timedelta(days=7) for n in etr_coll['features']],\n",
        "         [n['properties']['etr'] for n in etr_coll['features']], width=5, label='ETr')\n",
        "ax.bar([pd.to_datetime(n['properties']['date'], format='%Y_%m_%d') + timedelta(days=0) for n in eta_coll2['features']],\n",
        "         [n['properties']['etr'] for n in eta_coll2['features']], width=5, label='AET site a')\n",
        "ax.bar([pd.to_datetime(n['properties']['date'], format='%Y_%m_%d') + timedelta(days=7) for n in eta_coll['features']],\n",
        "         [n['properties']['etr'] for n in eta_coll['features']], width=5, label='AET site b')\n",
        "\n",
        "ax.set_ylabel('Mean daily ET (mm)', fontsize=14)\n",
        "ax.tick_params(axis='both', labelsize=12)\n",
        "# tick_labels = ['July 2017', 'August 2017', 'September 2017', 'October 2017', 'November 2017',\n",
        "#                'December 2017', 'January 2018', 'February 2018', 'March 2018', 'April 2018',\n",
        "#                'May 2018', 'June 2018', 'July 2018', 'August 2018']\n",
        "tick_labels = ['July 2017', 'September 2017', 'November 2017',\n",
        "               'January 2018', 'March 2018',\n",
        "               'May 2018',  'July 2018']\n",
        "ax.set_xticklabels(tick_labels)\n",
        "# ax.set_xticks([pd.to_datetime(n['properties']['date'], format='%Y_%m_%d') + timedelta(days=0) for n in eta_coll2['features']], tick_labels)\n",
        "ax.tick_params(axis='x', labelsize=11, rotation=90)\n",
        "ax.xaxis_date()\n",
        "ax.legend(fontsize=10)\n",
        "fig.savefig('drive/My Drive/ET_bar2(1).png', bbox_inches='tight', dpi=300)"
      ],
      "execution_count": null,
      "outputs": [
        {
          "output_type": "display_data",
          "data": {
            "image/png": "[encoded data removed]",
            "text/plain": [
              "<Figure size 432x288 with 1 Axes>"
            ]
          },
          "metadata": {
            "needs_background": "light"
          }
        }
      ]
    },
    {
      "cell_type": "code",
      "source": [
        "[pd.to_datetime(n['properties']['date'], format='%Y_%m_%d') + timedelta(days=0) for n in eta_coll2['features']]"
      ],
      "metadata": {
        "colab": {
          "base_uri": "https://localhost:8080/"
        },
        "id": "S6frqK1hvC6r",
        "outputId": "df5c18c7-33f6-489b-e7aa-d82fb30f0058"
      },
      "execution_count": null,
      "outputs": [
        {
          "output_type": "execute_result",
          "data": {
            "text/plain": [
              "[Timestamp('2017-07-01 00:00:00'),\n",
              " Timestamp('2017-08-01 00:00:00'),\n",
              " Timestamp('2017-09-01 00:00:00'),\n",
              " Timestamp('2017-10-01 00:00:00'),\n",
              " Timestamp('2017-11-01 00:00:00'),\n",
              " Timestamp('2017-12-01 00:00:00'),\n",
              " Timestamp('2018-01-01 00:00:00'),\n",
              " Timestamp('2018-02-01 00:00:00'),\n",
              " Timestamp('2018-03-01 00:00:00'),\n",
              " Timestamp('2018-04-01 00:00:00'),\n",
              " Timestamp('2018-05-01 00:00:00'),\n",
              " Timestamp('2018-06-01 00:00:00'),\n",
              " Timestamp('2018-07-01 00:00:00'),\n",
              " Timestamp('2018-08-01 00:00:00')]"
            ]
          },
          "metadata": {},
          "execution_count": 69
        }
      ]
    },
    {
      "cell_type": "markdown",
      "metadata": {
        "id": "l_yjRrJqlMwz"
      },
      "source": [
        "### Calculating AET as ETr * Kc"
      ]
    },
    {
      "cell_type": "code",
      "metadata": {
        "id": "MiqsnlHgesbt"
      },
      "source": [
        "data = test.map(AET(monthly))"
      ],
      "execution_count": null,
      "outputs": []
    },
    {
      "cell_type": "markdown",
      "metadata": {
        "id": "pwAjrQXITgMe"
      },
      "source": [
        "### Mapping AET for July using July average satellite image "
      ]
    },
    {
      "cell_type": "code",
      "metadata": {
        "colab": {
          "base_uri": "https://localhost:8080/",
          "height": 1000
        },
        "id": "jBa7pJc_xBbk",
        "outputId": "5e836fee-ded8-4fd1-b777-d9a0cc12e2a1"
      },
      "source": [
        "mapidCon = test.first().getMapId({'min': 0, 'max': 0.3, 'bands': ['B8', 'B4', 'B3']})\n",
        "mapidAET = ee.Image(data.first()).select('AET').getMapId({'min': 0, 'max': 6, 'palette': 'FF0000, FFFF00, 00FF00, 00FFFF, 0000FF'})\n",
        "mapLot = ee.Feature(geometry).getMapId()\n",
        "centroid = geo1.coordinates().getInfo()[::-1]\n",
        "map = folium.Map(location=centroid, zoom_start=13)\n",
        "folium.TileLayer(\n",
        "    tiles=mapidCon['tile_fetcher'].url_format,\n",
        "    attr='Map Data &copy; <a href=\"https://earthengine.google.com/\">Google Earth Engine</a>',\n",
        "    overlay=True,\n",
        "    name='sat',\n",
        "  ).add_to(map)\n",
        "folium.TileLayer(\n",
        "    tiles=mapidAET['tile_fetcher'].url_format,\n",
        "    attr='Map Data &copy; <a href=\"https://earthengine.google.com/\">Google Earth Engine</a>',\n",
        "    overlay=True,\n",
        "    name='ETA',\n",
        "  ).add_to(map)\n",
        "folium.TileLayer(\n",
        "    tiles=mapLot['tile_fetcher'].url_format,\n",
        "    attr='Map Data &copy; <a href=\"https://earthengine.google.com/\">Google Earth Engine</a>',\n",
        "    overlay=True,\n",
        "    name='paddock',\n",
        "  ).add_to(map)\n",
        "map.add_child(folium.LayerControl())\n",
        "map"
      ],
      "execution_count": null,
      "outputs": [
        {
          "output_type": "execute_result",
          "data": {
            "text/html": [
              "<div style=\"width:100%;\"><div style=\"position:relative;width:100%;height:0;padding-bottom:60%;\"><span style=\"color:#565656\">Make this Notebook Trusted to load map: File -> Trust Notebook</span><iframe src=\"about:blank\" style=\"position:absolute;width:100%;height:100%;left:0;top:0;border:none !important;\" data-html=%3C%21DOCTYPE%20html%3E%0A%3Chead%3E%20%20%20%20%0A%20%20%20%20%3Cmeta%20http-equiv%3D%22content-type%22%20content%3D%22text/html%3B%20charset%3DUTF-8%22%20/%3E%0A%20%20%20%20%3Cscript%3EL_PREFER_CANVAS%3Dfalse%3B%20L_NO_TOUCH%3Dfalse%3B%20L_DISABLE_3D%3Dfalse%3B%3C/script%3E%0A%20%20%20%20%3Cscript%20src%3D%22https%3A//cdn.jsdelivr.net/npm/leaflet%401.4.0/dist/leaflet.js%22%3E%3C/script%3E%0A%20%20%20%20%3Cscript%20src%3D%22https%3A//code.jquery.com/jquery-1.12.4.min.js%22%3E%3C/script%3E%0A%20%20%20%20%3Cscript%20src%3D%22https%3A//maxcdn.bootstrapcdn.com/bootstrap/3.2.0/js/bootstrap.min.js%22%3E%3C/script%3E%0A%20%20%20%20%3Cscript%20src%3D%22https%3A//cdnjs.cloudflare.com/ajax/libs/Leaflet.awesome-markers/2.0.2/leaflet.awesome-markers.js%22%3E%3C/script%3E%0A%20%20%20%20%3Clink%20rel%3D%22stylesheet%22%20href%3D%22https%3A//cdn.jsdelivr.net/npm/leaflet%401.4.0/dist/leaflet.css%22/%3E%0A%20%20%20%20%3Clink%20rel%3D%22stylesheet%22%20href%3D%22https%3A//maxcdn.bootstrapcdn.com/bootstrap/3.2.0/css/bootstrap.min.css%22/%3E%0A%20%20%20%20%3Clink%20rel%3D%22stylesheet%22%20href%3D%22https%3A//maxcdn.bootstrapcdn.com/bootstrap/3.2.0/css/bootstrap-theme.min.css%22/%3E%0A%20%20%20%20%3Clink%20rel%3D%22stylesheet%22%20href%3D%22https%3A//maxcdn.bootstrapcdn.com/font-awesome/4.6.3/css/font-awesome.min.css%22/%3E%0A%20%20%20%20%3Clink%20rel%3D%22stylesheet%22%20href%3D%22https%3A//cdnjs.cloudflare.com/ajax/libs/Leaflet.awesome-markers/2.0.2/leaflet.awesome-markers.css%22/%3E%0A%20%20%20%20%3Clink%20rel%3D%22stylesheet%22%20href%3D%22https%3A//rawcdn.githack.com/python-visualization/folium/master/folium/templates/leaflet.awesome.rotate.css%22/%3E%0A%20%20%20%20%3Cstyle%3Ehtml%2C%20body%20%7Bwidth%3A%20100%25%3Bheight%3A%20100%25%3Bmargin%3A%200%3Bpadding%3A%200%3B%7D%3C/style%3E%0A%20%20%20%20%3Cstyle%3E%23map%20%7Bposition%3Aabsolute%3Btop%3A0%3Bbottom%3A0%3Bright%3A0%3Bleft%3A0%3B%7D%3C/style%3E%0A%20%20%20%20%0A%20%20%20%20%3Cmeta%20name%3D%22viewport%22%20content%3D%22width%3Ddevice-width%2C%0A%20%20%20%20%20%20%20%20initial-scale%3D1.0%2C%20maximum-scale%3D1.0%2C%20user-scalable%3Dno%22%20/%3E%0A%20%20%20%20%3Cstyle%3E%23map_7c4ef84f4cba4eefaf823d3e1c5cdb12%20%7B%0A%20%20%20%20%20%20%20%20position%3A%20relative%3B%0A%20%20%20%20%20%20%20%20width%3A%20100.0%25%3B%0A%20%20%20%20%20%20%20%20height%3A%20100.0%25%3B%0A%20%20%20%20%20%20%20%20left%3A%200.0%25%3B%0A%20%20%20%20%20%20%20%20top%3A%200.0%25%3B%0A%20%20%20%20%20%20%20%20%7D%0A%20%20%20%20%3C/style%3E%0A%3C/head%3E%0A%3Cbody%3E%20%20%20%20%0A%20%20%20%20%0A%20%20%20%20%3Cdiv%20class%3D%22folium-map%22%20id%3D%22map_7c4ef84f4cba4eefaf823d3e1c5cdb12%22%20%3E%3C/div%3E%0A%3C/body%3E%0A%3Cscript%3E%20%20%20%20%0A%20%20%20%20%0A%20%20%20%20%0A%20%20%20%20%20%20%20%20var%20bounds%20%3D%20null%3B%0A%20%20%20%20%0A%0A%20%20%20%20var%20map_7c4ef84f4cba4eefaf823d3e1c5cdb12%20%3D%20L.map%28%0A%20%20%20%20%20%20%20%20%27map_7c4ef84f4cba4eefaf823d3e1c5cdb12%27%2C%20%7B%0A%20%20%20%20%20%20%20%20center%3A%20%5B-30.468%2C%20149.981%5D%2C%0A%20%20%20%20%20%20%20%20zoom%3A%2013%2C%0A%20%20%20%20%20%20%20%20maxBounds%3A%20bounds%2C%0A%20%20%20%20%20%20%20%20layers%3A%20%5B%5D%2C%0A%20%20%20%20%20%20%20%20worldCopyJump%3A%20false%2C%0A%20%20%20%20%20%20%20%20crs%3A%20L.CRS.EPSG3857%2C%0A%20%20%20%20%20%20%20%20zoomControl%3A%20true%2C%0A%20%20%20%20%20%20%20%20%7D%29%3B%0A%0A%0A%20%20%20%20%0A%20%20%20%20var%20tile_layer_70d183edf2224c539fc2efb437dd4a6c%20%3D%20L.tileLayer%28%0A%20%20%20%20%20%20%20%20%27https%3A//%7Bs%7D.tile.openstreetmap.org/%7Bz%7D/%7Bx%7D/%7By%7D.png%27%2C%0A%20%20%20%20%20%20%20%20%7B%0A%20%20%20%20%20%20%20%20%22attribution%22%3A%20null%2C%0A%20%20%20%20%20%20%20%20%22detectRetina%22%3A%20false%2C%0A%20%20%20%20%20%20%20%20%22maxNativeZoom%22%3A%2018%2C%0A%20%20%20%20%20%20%20%20%22maxZoom%22%3A%2018%2C%0A%20%20%20%20%20%20%20%20%22minZoom%22%3A%200%2C%0A%20%20%20%20%20%20%20%20%22noWrap%22%3A%20false%2C%0A%20%20%20%20%20%20%20%20%22opacity%22%3A%201%2C%0A%20%20%20%20%20%20%20%20%22subdomains%22%3A%20%22abc%22%2C%0A%20%20%20%20%20%20%20%20%22tms%22%3A%20false%0A%7D%29.addTo%28map_7c4ef84f4cba4eefaf823d3e1c5cdb12%29%3B%0A%20%20%20%20var%20tile_layer_0f2c92413d5f45588e7e921442e1a2d9%20%3D%20L.tileLayer%28%0A%20%20%20%20%20%20%20%20%27https%3A//earthengine.googleapis.com/v1alpha/projects/earthengine-legacy/maps/750ac8182f6b306a3b98b2d0095c74d8-4b60a6d72117aeb2131b6c735da28794/tiles/%7Bz%7D/%7Bx%7D/%7By%7D%27%2C%0A%20%20%20%20%20%20%20%20%7B%0A%20%20%20%20%20%20%20%20%22attribution%22%3A%20%22Map%20Data%20%26copy%3B%20%3Ca%20href%3D%5C%22https%3A//earthengine.google.com/%5C%22%3EGoogle%20Earth%20Engine%3C/a%3E%22%2C%0A%20%20%20%20%20%20%20%20%22detectRetina%22%3A%20false%2C%0A%20%20%20%20%20%20%20%20%22maxNativeZoom%22%3A%2018%2C%0A%20%20%20%20%20%20%20%20%22maxZoom%22%3A%2018%2C%0A%20%20%20%20%20%20%20%20%22minZoom%22%3A%200%2C%0A%20%20%20%20%20%20%20%20%22noWrap%22%3A%20false%2C%0A%20%20%20%20%20%20%20%20%22opacity%22%3A%201%2C%0A%20%20%20%20%20%20%20%20%22subdomains%22%3A%20%22abc%22%2C%0A%20%20%20%20%20%20%20%20%22tms%22%3A%20false%0A%7D%29.addTo%28map_7c4ef84f4cba4eefaf823d3e1c5cdb12%29%3B%0A%20%20%20%20var%20tile_layer_7018110e9be44fba8f022886cbd82cf9%20%3D%20L.tileLayer%28%0A%20%20%20%20%20%20%20%20%27https%3A//earthengine.googleapis.com/v1alpha/projects/earthengine-legacy/maps/1f26b67d6b74358f757cdec75c31e5d8-068d9c9d115eb9421054f7c3b658e0c7/tiles/%7Bz%7D/%7Bx%7D/%7By%7D%27%2C%0A%20%20%20%20%20%20%20%20%7B%0A%20%20%20%20%20%20%20%20%22attribution%22%3A%20%22Map%20Data%20%26copy%3B%20%3Ca%20href%3D%5C%22https%3A//earthengine.google.com/%5C%22%3EGoogle%20Earth%20Engine%3C/a%3E%22%2C%0A%20%20%20%20%20%20%20%20%22detectRetina%22%3A%20false%2C%0A%20%20%20%20%20%20%20%20%22maxNativeZoom%22%3A%2018%2C%0A%20%20%20%20%20%20%20%20%22maxZoom%22%3A%2018%2C%0A%20%20%20%20%20%20%20%20%22minZoom%22%3A%200%2C%0A%20%20%20%20%20%20%20%20%22noWrap%22%3A%20false%2C%0A%20%20%20%20%20%20%20%20%22opacity%22%3A%201%2C%0A%20%20%20%20%20%20%20%20%22subdomains%22%3A%20%22abc%22%2C%0A%20%20%20%20%20%20%20%20%22tms%22%3A%20false%0A%7D%29.addTo%28map_7c4ef84f4cba4eefaf823d3e1c5cdb12%29%3B%0A%20%20%20%20var%20tile_layer_bcac6fe2b0d04562bb85232d920a3ce9%20%3D%20L.tileLayer%28%0A%20%20%20%20%20%20%20%20%27https%3A//earthengine.googleapis.com/v1alpha/projects/earthengine-legacy/maps/678870393f8b6165af61ee9aa52d4c98-f320481806f4c318594831f102668e6f/tiles/%7Bz%7D/%7Bx%7D/%7By%7D%27%2C%0A%20%20%20%20%20%20%20%20%7B%0A%20%20%20%20%20%20%20%20%22attribution%22%3A%20%22Map%20Data%20%26copy%3B%20%3Ca%20href%3D%5C%22https%3A//earthengine.google.com/%5C%22%3EGoogle%20Earth%20Engine%3C/a%3E%22%2C%0A%20%20%20%20%20%20%20%20%22detectRetina%22%3A%20false%2C%0A%20%20%20%20%20%20%20%20%22maxNativeZoom%22%3A%2018%2C%0A%20%20%20%20%20%20%20%20%22maxZoom%22%3A%2018%2C%0A%20%20%20%20%20%20%20%20%22minZoom%22%3A%200%2C%0A%20%20%20%20%20%20%20%20%22noWrap%22%3A%20false%2C%0A%20%20%20%20%20%20%20%20%22opacity%22%3A%201%2C%0A%20%20%20%20%20%20%20%20%22subdomains%22%3A%20%22abc%22%2C%0A%20%20%20%20%20%20%20%20%22tms%22%3A%20false%0A%7D%29.addTo%28map_7c4ef84f4cba4eefaf823d3e1c5cdb12%29%3B%0A%20%20%20%20%0A%20%20%20%20%20%20%20%20%20%20%20%20var%20layer_control_7b584179c0524674bee35cd032b1cbba%20%3D%20%7B%0A%20%20%20%20%20%20%20%20%20%20%20%20%20%20%20%20base_layers%20%3A%20%7B%20%22openstreetmap%22%20%3A%20tile_layer_70d183edf2224c539fc2efb437dd4a6c%2C%20%7D%2C%0A%20%20%20%20%20%20%20%20%20%20%20%20%20%20%20%20overlays%20%3A%20%7B%20%22sat%22%20%3A%20tile_layer_0f2c92413d5f45588e7e921442e1a2d9%2C%22ETA%22%20%3A%20tile_layer_7018110e9be44fba8f022886cbd82cf9%2C%22paddock%22%20%3A%20tile_layer_bcac6fe2b0d04562bb85232d920a3ce9%2C%20%7D%0A%20%20%20%20%20%20%20%20%20%20%20%20%20%20%20%20%7D%3B%0A%20%20%20%20%20%20%20%20%20%20%20%20L.control.layers%28%0A%20%20%20%20%20%20%20%20%20%20%20%20%20%20%20%20layer_control_7b584179c0524674bee35cd032b1cbba.base_layers%2C%0A%20%20%20%20%20%20%20%20%20%20%20%20%20%20%20%20layer_control_7b584179c0524674bee35cd032b1cbba.overlays%2C%0A%20%20%20%20%20%20%20%20%20%20%20%20%20%20%20%20%7Bposition%3A%20%27topright%27%2C%0A%20%20%20%20%20%20%20%20%20%20%20%20%20%20%20%20%20collapsed%3A%20true%2C%0A%20%20%20%20%20%20%20%20%20%20%20%20%20%20%20%20%20autoZIndex%3A%20true%0A%20%20%20%20%20%20%20%20%20%20%20%20%20%20%20%20%7D%29.addTo%28map_7c4ef84f4cba4eefaf823d3e1c5cdb12%29%3B%0A%20%20%20%20%20%20%20%20%20%20%20%20%0A%20%20%20%20%20%20%20%20%0A%3C/script%3E onload=\"this.contentDocument.open();this.contentDocument.write(    decodeURIComponent(this.getAttribute('data-html')));this.contentDocument.close();\" allowfullscreen webkitallowfullscreen mozallowfullscreen></iframe></div></div>"
            ],
            "text/plain": [
              "<folium.folium.Map at 0x7f63f1d529d0>"
            ]
          },
          "metadata": {},
          "execution_count": 21
        }
      ]
    },
    {
      "cell_type": "code",
      "metadata": {
        "colab": {
          "base_uri": "https://localhost:8080/"
        },
        "id": "PY1kDsub9uTz",
        "outputId": "bf9df3b8-8ac6-41ce-fd14-85b5efda9b61"
      },
      "source": [
        "print(data.first().bandNames().getInfo())\n",
        "ee.batch.Export.image.toDrive(data.select('AET').toBands().rename(band_names),\n",
        "                              'AETLotB',\n",
        "                              region=geometry.geometry(),\n",
        "                              scale=10,\n",
        "                              maxPixels=1e13).start()"
      ],
      "execution_count": null,
      "outputs": [
        {
          "output_type": "stream",
          "name": "stdout",
          "text": [
            "['B1', 'B2', 'B3', 'B4', 'B5', 'B6', 'B7', 'B8', 'B8A', 'B9', 'B10', 'B11', 'B12', 'QA10', 'QA20', 'QA60', 'probability', 'NDVI', 'EVI', 'EVIr', 'GVMI', 'RMI', 'Kc', 'ETr', 'AET']\n"
          ]
        }
      ]
    },
    {
      "cell_type": "markdown",
      "metadata": {
        "id": "hLHETPJJTsrR"
      },
      "source": [
        "### Mean AET plot for the paddock"
      ]
    },
    {
      "cell_type": "code",
      "metadata": {
        "colab": {
          "base_uri": "https://localhost:8080/",
          "height": 568
        },
        "id": "BPZhmRr_RnsY",
        "outputId": "c5e18608-c4fd-4707-c327-00b90604e52c"
      },
      "source": [
        "eta_coll = data.select('AET').map(sample(geometry)).getInfo()\n",
        "fig, ax = plt.subplots()\n",
        "ax.bar([pd.to_datetime(n['properties']['date'], format='%Y_%m_%d') for n in eta_coll['features']],\n",
        "         [n['properties']['etr'] for n in eta_coll['features']], width=15)\n",
        "ax.set_ylabel('Mean monthly $AET$ (mm)', fontsize=14)\n",
        "ax.tick_params(axis='both', labelsize=12)\n",
        "ax.tick_params(axis='x', labelsize=12, rotation=330)\n",
        "ax.xaxis_date()\n",
        "\n",
        "eta_coll2 = data.select('AET').map(sample(geometry2)).getInfo()\n",
        "fig, ax = plt.subplots()\n",
        "ax.bar([pd.to_datetime(n['properties']['date'], format='%Y_%m_%d') for n in eta_coll2['features']],\n",
        "         [n['properties']['etr'] for n in eta_coll2['features']], width=15)\n",
        "ax.set_ylabel('Mean monthly $AET$ (mm)', fontsize=14)\n",
        "ax.tick_params(axis='both', labelsize=12)\n",
        "ax.tick_params(axis='x', labelsize=12, rotation=330)\n",
        "ax.xaxis_date()\n",
        "# fig.savefig('drive/My Drive/AET_205.png', bbox_inches='tight', dpi=300)"
      ],
      "execution_count": null,
      "outputs": [
        {
          "output_type": "display_data",
          "data": {
            "image/png": "[encoded data removed]",
            "text/plain": [
              "<Figure size 432x288 with 1 Axes>"
            ]
          },
          "metadata": {
            "needs_background": "light"
          }
        },
        {
          "output_type": "display_data",
          "data": {
            "image/png": "[encoded data removed]",
            "text/plain": [
              "<Figure size 432x288 with 1 Axes>"
            ]
          },
          "metadata": {
            "needs_background": "light"
          }
        }
      ]
    },
    {
      "cell_type": "code",
      "metadata": {
        "colab": {
          "base_uri": "https://localhost:8080/",
          "height": 1000
        },
        "id": "Lx9ziOCxwrV8",
        "outputId": "3ffeecf5-0099-4bae-b2e1-5ec05d97dc52"
      },
      "source": [
        "mapidCon = geometry.getMapId()\n",
        "mapidEVI = geometry2.getMapId()\n",
        "# mapidKc = ee.Image(test.first()).select('Kc').getMapId({'min': 0, 'max': 0.8, 'palette': ['440154', '433982', '30678D', '218F8B', '36B677', '8ED542', 'FDE725']})\n",
        "# mapDam = ee.Feature(ee.Feature(NSWdams.first()).geometry().buffer(200).bounds()).getMapId()\n",
        "centroid = geo1.coordinates().getInfo()[::-1]\n",
        "map = folium.Map(location=centroid, zoom_start=13)\n",
        "folium.TileLayer(\n",
        "    tiles=mapidCon['tile_fetcher'].url_format,\n",
        "    attr='Map Data &copy; <a href=\"https://earthengine.google.com/\">Google Earth Engine</a>',\n",
        "    overlay=True,\n",
        "    name='sat',\n",
        "  ).add_to(map)\n",
        "folium.TileLayer(\n",
        "    tiles=mapidEVI['tile_fetcher'].url_format,\n",
        "    attr='Map Data &copy; <a href=\"https://earthengine.google.com/\">Google Earth Engine</a>',\n",
        "    overlay=True,\n",
        "    name='NDVI',\n",
        "  ).add_to(map)\n",
        "\n",
        "map.add_child(folium.LayerControl())\n",
        "map"
      ],
      "execution_count": null,
      "outputs": [
        {
          "output_type": "execute_result",
          "data": {
            "text/html": [
              "<div style=\"width:100%;\"><div style=\"position:relative;width:100%;height:0;padding-bottom:60%;\"><span style=\"color:#565656\">Make this Notebook Trusted to load map: File -> Trust Notebook</span><iframe src=\"about:blank\" style=\"position:absolute;width:100%;height:100%;left:0;top:0;border:none !important;\" data-html=%3C%21DOCTYPE%20html%3E%0A%3Chead%3E%20%20%20%20%0A%20%20%20%20%3Cmeta%20http-equiv%3D%22content-type%22%20content%3D%22text/html%3B%20charset%3DUTF-8%22%20/%3E%0A%20%20%20%20%3Cscript%3EL_PREFER_CANVAS%3Dfalse%3B%20L_NO_TOUCH%3Dfalse%3B%20L_DISABLE_3D%3Dfalse%3B%3C/script%3E%0A%20%20%20%20%3Cscript%20src%3D%22https%3A//cdn.jsdelivr.net/npm/leaflet%401.4.0/dist/leaflet.js%22%3E%3C/script%3E%0A%20%20%20%20%3Cscript%20src%3D%22https%3A//code.jquery.com/jquery-1.12.4.min.js%22%3E%3C/script%3E%0A%20%20%20%20%3Cscript%20src%3D%22https%3A//maxcdn.bootstrapcdn.com/bootstrap/3.2.0/js/bootstrap.min.js%22%3E%3C/script%3E%0A%20%20%20%20%3Cscript%20src%3D%22https%3A//cdnjs.cloudflare.com/ajax/libs/Leaflet.awesome-markers/2.0.2/leaflet.awesome-markers.js%22%3E%3C/script%3E%0A%20%20%20%20%3Clink%20rel%3D%22stylesheet%22%20href%3D%22https%3A//cdn.jsdelivr.net/npm/leaflet%401.4.0/dist/leaflet.css%22/%3E%0A%20%20%20%20%3Clink%20rel%3D%22stylesheet%22%20href%3D%22https%3A//maxcdn.bootstrapcdn.com/bootstrap/3.2.0/css/bootstrap.min.css%22/%3E%0A%20%20%20%20%3Clink%20rel%3D%22stylesheet%22%20href%3D%22https%3A//maxcdn.bootstrapcdn.com/bootstrap/3.2.0/css/bootstrap-theme.min.css%22/%3E%0A%20%20%20%20%3Clink%20rel%3D%22stylesheet%22%20href%3D%22https%3A//maxcdn.bootstrapcdn.com/font-awesome/4.6.3/css/font-awesome.min.css%22/%3E%0A%20%20%20%20%3Clink%20rel%3D%22stylesheet%22%20href%3D%22https%3A//cdnjs.cloudflare.com/ajax/libs/Leaflet.awesome-markers/2.0.2/leaflet.awesome-markers.css%22/%3E%0A%20%20%20%20%3Clink%20rel%3D%22stylesheet%22%20href%3D%22https%3A//rawcdn.githack.com/python-visualization/folium/master/folium/templates/leaflet.awesome.rotate.css%22/%3E%0A%20%20%20%20%3Cstyle%3Ehtml%2C%20body%20%7Bwidth%3A%20100%25%3Bheight%3A%20100%25%3Bmargin%3A%200%3Bpadding%3A%200%3B%7D%3C/style%3E%0A%20%20%20%20%3Cstyle%3E%23map%20%7Bposition%3Aabsolute%3Btop%3A0%3Bbottom%3A0%3Bright%3A0%3Bleft%3A0%3B%7D%3C/style%3E%0A%20%20%20%20%0A%20%20%20%20%3Cmeta%20name%3D%22viewport%22%20content%3D%22width%3Ddevice-width%2C%0A%20%20%20%20%20%20%20%20initial-scale%3D1.0%2C%20maximum-scale%3D1.0%2C%20user-scalable%3Dno%22%20/%3E%0A%20%20%20%20%3Cstyle%3E%23map_9359b373d8d24f9a8bb4e169bd8f61e4%20%7B%0A%20%20%20%20%20%20%20%20position%3A%20relative%3B%0A%20%20%20%20%20%20%20%20width%3A%20100.0%25%3B%0A%20%20%20%20%20%20%20%20height%3A%20100.0%25%3B%0A%20%20%20%20%20%20%20%20left%3A%200.0%25%3B%0A%20%20%20%20%20%20%20%20top%3A%200.0%25%3B%0A%20%20%20%20%20%20%20%20%7D%0A%20%20%20%20%3C/style%3E%0A%3C/head%3E%0A%3Cbody%3E%20%20%20%20%0A%20%20%20%20%0A%20%20%20%20%3Cdiv%20class%3D%22folium-map%22%20id%3D%22map_9359b373d8d24f9a8bb4e169bd8f61e4%22%20%3E%3C/div%3E%0A%3C/body%3E%0A%3Cscript%3E%20%20%20%20%0A%20%20%20%20%0A%20%20%20%20%0A%20%20%20%20%20%20%20%20var%20bounds%20%3D%20null%3B%0A%20%20%20%20%0A%0A%20%20%20%20var%20map_9359b373d8d24f9a8bb4e169bd8f61e4%20%3D%20L.map%28%0A%20%20%20%20%20%20%20%20%27map_9359b373d8d24f9a8bb4e169bd8f61e4%27%2C%20%7B%0A%20%20%20%20%20%20%20%20center%3A%20%5B-30.468%2C%20149.981%5D%2C%0A%20%20%20%20%20%20%20%20zoom%3A%2013%2C%0A%20%20%20%20%20%20%20%20maxBounds%3A%20bounds%2C%0A%20%20%20%20%20%20%20%20layers%3A%20%5B%5D%2C%0A%20%20%20%20%20%20%20%20worldCopyJump%3A%20false%2C%0A%20%20%20%20%20%20%20%20crs%3A%20L.CRS.EPSG3857%2C%0A%20%20%20%20%20%20%20%20zoomControl%3A%20true%2C%0A%20%20%20%20%20%20%20%20%7D%29%3B%0A%0A%0A%20%20%20%20%0A%20%20%20%20var%20tile_layer_67ad678296f849eda968f0824cfd9f4e%20%3D%20L.tileLayer%28%0A%20%20%20%20%20%20%20%20%27https%3A//%7Bs%7D.tile.openstreetmap.org/%7Bz%7D/%7Bx%7D/%7By%7D.png%27%2C%0A%20%20%20%20%20%20%20%20%7B%0A%20%20%20%20%20%20%20%20%22attribution%22%3A%20null%2C%0A%20%20%20%20%20%20%20%20%22detectRetina%22%3A%20false%2C%0A%20%20%20%20%20%20%20%20%22maxNativeZoom%22%3A%2018%2C%0A%20%20%20%20%20%20%20%20%22maxZoom%22%3A%2018%2C%0A%20%20%20%20%20%20%20%20%22minZoom%22%3A%200%2C%0A%20%20%20%20%20%20%20%20%22noWrap%22%3A%20false%2C%0A%20%20%20%20%20%20%20%20%22opacity%22%3A%201%2C%0A%20%20%20%20%20%20%20%20%22subdomains%22%3A%20%22abc%22%2C%0A%20%20%20%20%20%20%20%20%22tms%22%3A%20false%0A%7D%29.addTo%28map_9359b373d8d24f9a8bb4e169bd8f61e4%29%3B%0A%20%20%20%20var%20tile_layer_53f85cc053404751affb7dc0851f7745%20%3D%20L.tileLayer%28%0A%20%20%20%20%20%20%20%20%27https%3A//earthengine.googleapis.com/v1alpha/projects/earthengine-legacy/maps/678870393f8b6165af61ee9aa52d4c98-c75c6e73c7c9b4c0a72c6aa4e02310f8/tiles/%7Bz%7D/%7Bx%7D/%7By%7D%27%2C%0A%20%20%20%20%20%20%20%20%7B%0A%20%20%20%20%20%20%20%20%22attribution%22%3A%20%22Map%20Data%20%26copy%3B%20%3Ca%20href%3D%5C%22https%3A//earthengine.google.com/%5C%22%3EGoogle%20Earth%20Engine%3C/a%3E%22%2C%0A%20%20%20%20%20%20%20%20%22detectRetina%22%3A%20false%2C%0A%20%20%20%20%20%20%20%20%22maxNativeZoom%22%3A%2018%2C%0A%20%20%20%20%20%20%20%20%22maxZoom%22%3A%2018%2C%0A%20%20%20%20%20%20%20%20%22minZoom%22%3A%200%2C%0A%20%20%20%20%20%20%20%20%22noWrap%22%3A%20false%2C%0A%20%20%20%20%20%20%20%20%22opacity%22%3A%201%2C%0A%20%20%20%20%20%20%20%20%22subdomains%22%3A%20%22abc%22%2C%0A%20%20%20%20%20%20%20%20%22tms%22%3A%20false%0A%7D%29.addTo%28map_9359b373d8d24f9a8bb4e169bd8f61e4%29%3B%0A%20%20%20%20var%20tile_layer_7945ee299feb402cbebfee795cefbe3c%20%3D%20L.tileLayer%28%0A%20%20%20%20%20%20%20%20%27https%3A//earthengine.googleapis.com/v1alpha/projects/earthengine-legacy/maps/ca54431f00555ec9dcae0429beddeefd-a949eedd25014455e53992fa775e6d50/tiles/%7Bz%7D/%7Bx%7D/%7By%7D%27%2C%0A%20%20%20%20%20%20%20%20%7B%0A%20%20%20%20%20%20%20%20%22attribution%22%3A%20%22Map%20Data%20%26copy%3B%20%3Ca%20href%3D%5C%22https%3A//earthengine.google.com/%5C%22%3EGoogle%20Earth%20Engine%3C/a%3E%22%2C%0A%20%20%20%20%20%20%20%20%22detectRetina%22%3A%20false%2C%0A%20%20%20%20%20%20%20%20%22maxNativeZoom%22%3A%2018%2C%0A%20%20%20%20%20%20%20%20%22maxZoom%22%3A%2018%2C%0A%20%20%20%20%20%20%20%20%22minZoom%22%3A%200%2C%0A%20%20%20%20%20%20%20%20%22noWrap%22%3A%20false%2C%0A%20%20%20%20%20%20%20%20%22opacity%22%3A%201%2C%0A%20%20%20%20%20%20%20%20%22subdomains%22%3A%20%22abc%22%2C%0A%20%20%20%20%20%20%20%20%22tms%22%3A%20false%0A%7D%29.addTo%28map_9359b373d8d24f9a8bb4e169bd8f61e4%29%3B%0A%20%20%20%20%0A%20%20%20%20%20%20%20%20%20%20%20%20var%20layer_control_dd9955d1be7c4bd0941399883a214f8f%20%3D%20%7B%0A%20%20%20%20%20%20%20%20%20%20%20%20%20%20%20%20base_layers%20%3A%20%7B%20%22openstreetmap%22%20%3A%20tile_layer_67ad678296f849eda968f0824cfd9f4e%2C%20%7D%2C%0A%20%20%20%20%20%20%20%20%20%20%20%20%20%20%20%20overlays%20%3A%20%7B%20%22sat%22%20%3A%20tile_layer_53f85cc053404751affb7dc0851f7745%2C%22NDVI%22%20%3A%20tile_layer_7945ee299feb402cbebfee795cefbe3c%2C%20%7D%0A%20%20%20%20%20%20%20%20%20%20%20%20%20%20%20%20%7D%3B%0A%20%20%20%20%20%20%20%20%20%20%20%20L.control.layers%28%0A%20%20%20%20%20%20%20%20%20%20%20%20%20%20%20%20layer_control_dd9955d1be7c4bd0941399883a214f8f.base_layers%2C%0A%20%20%20%20%20%20%20%20%20%20%20%20%20%20%20%20layer_control_dd9955d1be7c4bd0941399883a214f8f.overlays%2C%0A%20%20%20%20%20%20%20%20%20%20%20%20%20%20%20%20%7Bposition%3A%20%27topright%27%2C%0A%20%20%20%20%20%20%20%20%20%20%20%20%20%20%20%20%20collapsed%3A%20true%2C%0A%20%20%20%20%20%20%20%20%20%20%20%20%20%20%20%20%20autoZIndex%3A%20true%0A%20%20%20%20%20%20%20%20%20%20%20%20%20%20%20%20%7D%29.addTo%28map_9359b373d8d24f9a8bb4e169bd8f61e4%29%3B%0A%20%20%20%20%20%20%20%20%20%20%20%20%0A%20%20%20%20%20%20%20%20%0A%3C/script%3E onload=\"this.contentDocument.open();this.contentDocument.write(    decodeURIComponent(this.getAttribute('data-html')));this.contentDocument.close();\" allowfullscreen webkitallowfullscreen mozallowfullscreen></iframe></div></div>"
            ],
            "text/plain": [
              "<folium.folium.Map at 0x7f63f2369c10>"
            ]
          },
          "metadata": {},
          "execution_count": 25
        }
      ]
    },
    {
      "cell_type": "markdown",
      "metadata": {
        "id": "a_5lilQpBgXV"
      },
      "source": [
        "### Paddock estimations "
      ]
    },
    {
      "cell_type": "markdown",
      "metadata": {
        "id": "vUFSZ3O_JM9t"
      },
      "source": [
        "#### Water demand (AET)"
      ]
    },
    {
      "cell_type": "code",
      "metadata": {
        "colab": {
          "base_uri": "https://localhost:8080/"
        },
        "id": "_81wNRliBfdw",
        "outputId": "06f954f3-2db3-4005-9d5e-ed735339204c"
      },
      "source": [
        "area = geometry.geometry().area(1).divide(10000).getInfo()\n",
        "print('area =', area, 'ha')"
      ],
      "execution_count": null,
      "outputs": [
        {
          "name": "stdout",
          "output_type": "stream",
          "text": [
            "area = 460.5465692073874 ha\n"
          ]
        }
      ]
    },
    {
      "cell_type": "code",
      "metadata": {
        "id": "xFbFPqmd8AmP"
      },
      "source": [
        "def demand_calc(geo, band, scale, monthly=None):\n",
        "    def inner(img):\n",
        "        # area = geometry.geometry().area(1)\n",
        "        demand = ee.Image(img.select(band)).divide(1000).multiply(ee.Image.pixelArea()).reduceRegion('sum', geometry.geometry(), scale).values().get(0)\n",
        "        date = ee.Date(img.get('system:time_start'))\n",
        "        days = ee.Number(1)\n",
        "        if monthly:\n",
        "            days = date.advance(1, 'month').difference(date, 'day')\n",
        "        return ee.Feature(None, {'date':date.format('YYYY_MM_dd'), 'demand':ee.Number(demand).multiply(days)})\n",
        "    return inner\n",
        "\n",
        "\n",
        "def offer_calc(geo, scale):\n",
        "    def inner(img):\n",
        "        area = geo.area(1)\n",
        "        offer = ee.Image(img).divide(1000).reduceRegion('mean', geo.geometry(), scale).values().get(0)\n",
        "        date = ee.Date(img.get('system:time_start'))\n",
        "        # days = ee.Number(1)\n",
        "        # if monthly:\n",
        "        #     days = date.advance(1, 'month').difference(date, 'day')\n",
        "        return ee.Feature(None, {'date':date.format('YYYY_MM_dd'), 'offer':ee.Number(offer).multiply(area)})\n",
        "    return inner\n"
      ],
      "execution_count": null,
      "outputs": []
    },
    {
      "cell_type": "markdown",
      "metadata": {
        "id": "kcSu0piMT3xz"
      },
      "source": [
        "### Monthly cummulated AET demand"
      ]
    },
    {
      "cell_type": "code",
      "metadata": {
        "id": "xD-Npu9vupF6"
      },
      "source": [
        "dem = data.map(demand_calc(geometry.geometry(), 'AET', 10, monthly))\n",
        "demand_data = dem.getInfo()\n",
        "# area = geometry.area().getInfo()"
      ],
      "execution_count": null,
      "outputs": []
    },
    {
      "cell_type": "code",
      "metadata": {
        "id": "cTWSIOuVQNDT"
      },
      "source": [
        "# dem2 = data2.map(demand_calc(geometry.geometry(), 'AET', 10, monthly))\n",
        "# demand_data2 = dem2.getInfo()\n",
        "# area2 = geometry.area().getInfo()"
      ],
      "execution_count": null,
      "outputs": []
    },
    {
      "cell_type": "code",
      "metadata": {
        "id": "EXb55bKDb5o0"
      },
      "source": [
        "offer2 = gpm.map(offer_calc(geometry2, 10000))\n",
        "offer_data2 = offer2.getInfo()"
      ],
      "execution_count": null,
      "outputs": []
    },
    {
      "cell_type": "code",
      "metadata": {
        "colab": {
          "base_uri": "https://localhost:8080/"
        },
        "id": "wokZXyys91z-",
        "outputId": "1236f121-dbb9-4e95-e835-cee485a4cf6e"
      },
      "source": [
        "area"
      ],
      "execution_count": null,
      "outputs": [
        {
          "data": {
            "text/plain": [
              "460.5465692073874"
            ]
          },
          "execution_count": 56,
          "metadata": {
            "tags": []
          },
          "output_type": "execute_result"
        }
      ]
    },
    {
      "cell_type": "code",
      "metadata": {
        "colab": {
          "base_uri": "https://localhost:8080/",
          "height": 281
        },
        "id": "WRIP09mG9IrN",
        "outputId": "9c7d936a-6075-4fd3-9a17-09266426b355"
      },
      "source": [
        "fig, ax = plt.subplots()\n",
        "ax.bar([pd.to_datetime(n['properties']['date'], format='%Y_%m_%d') for n in demand_data['features']],\n",
        "         [n['properties']['demand']/(area) for n in demand_data['features']], width=7, label='AET site b', color='forestgreen')\n",
        "ax.set_ylabel('$AET$ demand (m$^3$ ha$^{-1}$)', fontsize=14)\n",
        "ax.xaxis_date()\n",
        "ax.tick_params(axis='both', labelsize=12)\n",
        "ax.tick_params(axis='x', labelsize=12, rotation=345)\n",
        "# ax.set_ylim(0, 3000)"
      ],
      "execution_count": null,
      "outputs": [
        {
          "data": {
            "image/png": "[encoded data removed]",
            "text/plain": [
              "<Figure size 432x288 with 1 Axes>"
            ]
          },
          "metadata": {
            "tags": []
          },
          "output_type": "display_data"
        }
      ]
    },
    {
      "cell_type": "code",
      "metadata": {
        "colab": {
          "base_uri": "https://localhost:8080/",
          "height": 295
        },
        "id": "vlNtKhro9sxt",
        "outputId": "a4ff5b75-8bd1-4d5d-c125-ab950097ebe9"
      },
      "source": [
        "# fig, ax = plt.subplots()\n",
        "# ax.bar([pd.to_datetime(n['properties']['date'] , format='%Y_%m_%d') - timedelta(days=5) for n in demand_data['features']],\n",
        "#          [n['properties']['demand']/(area2/10000) for n in demand_data['features']], width=7, label='AET site a', color='orange')\n",
        "# ax.bar([pd.to_datetime(n['properties']['date'], format='%Y_%m_%d') + timedelta(days=5)for n in demand_data2['features']],\n",
        "#          [n['properties']['demand']/(area/10000) for n in demand_data2['features']], width=7, label='AET site b', color='forestgreen')\n",
        "# ax.set_ylabel('$AET$ demand (m$^3$ ha$^{-1}$)', fontsize=14)\n",
        "# ax.xaxis_date()\n",
        "# ax.tick_params(axis='both', labelsize=12)\n",
        "# ax.tick_params(axis='x', labelsize=12, rotation=345)\n",
        "# ax.set_ylim(0, 3000)\n",
        "\n",
        "\n",
        "# ax2 = ax.twinx()\n",
        "# ax2.bar([pd.to_datetime(n['properties']['date'], format='%Y_%m_%d') - timedelta(days=5) for n in offer_data2['features']],\n",
        "#          [-n['properties']['offer']/(area2/10000) for n in offer_data2['features']], width=7, label='Rain site a')\n",
        "# ax2.bar([pd.to_datetime(n['properties']['date'], format='%Y_%m_%d') + timedelta(days=5)for n in offer_data['features']],\n",
        "#          [-n['properties']['offer']/(area/10000) for n in offer_data['features']], width=7, label='Rain site b', color='darkblue')\n",
        "# ax2.set_ylim(-2000, 0)\n",
        "# y2_ticks = np.linspace(0, 2000, 5)\n",
        "# y2_ticklabels = [str(int(i)) for i in y2_ticks]\n",
        "# ax2.set_yticks(-1 * y2_ticks)\n",
        "# ax2.set_yticklabels(y2_ticklabels)\n",
        "# ax2.tick_params(axis='y', labelsize=12)\n",
        "# ax2.set_ylabel('Rainfall (m$^3$ ha$^{-1}$)', fontsize=14)\n",
        "# fig.legend(bbox_to_anchor=(1.07,0.08), fontsize=12, ncol=4)\n",
        "# fig.savefig('drive/My Drive/demand_rain.png', bbox_inches='tight', dpi=300)"
      ],
      "execution_count": null,
      "outputs": [
        {
          "data": {
            "image/png": "[encoded data removed]",
            "text/plain": [
              "<Figure size 432x288 with 2 Axes>"
            ]
          },
          "metadata": {
            "tags": []
          },
          "output_type": "display_data"
        }
      ]
    },
    {
      "cell_type": "markdown",
      "metadata": {
        "id": "GBBWerYPULOI"
      },
      "source": [
        "### Annual cummulated AET water demand per ha"
      ]
    },
    {
      "cell_type": "code",
      "metadata": {
        "colab": {
          "base_uri": "https://localhost:8080/"
        },
        "id": "uiEeZJgq7P4L",
        "outputId": "c2b33cd0-5370-437a-b3b0-34e3ef20ef7d"
      },
      "source": [
        "### cumulated annual AET for monthly basis\n",
        "print('annual AET per ha =', np.sum([n['properties']['demand'] for n in demand_data['features']])/(area), 'm³')"
      ],
      "execution_count": null,
      "outputs": [
        {
          "name": "stdout",
          "output_type": "stream",
          "text": [
            "annual AET per ha = 7294.353149174291 m³\n"
          ]
        }
      ]
    },
    {
      "cell_type": "markdown",
      "metadata": {
        "id": "ky2H7ketJVun"
      },
      "source": [
        "### Rainfall"
      ]
    },
    {
      "cell_type": "markdown",
      "metadata": {
        "id": "-zIDY3oxUb08"
      },
      "source": [
        "### Lumped rainfall in the paddock"
      ]
    },
    {
      "cell_type": "code",
      "metadata": {
        "colab": {
          "base_uri": "https://localhost:8080/",
          "height": 266
        },
        "id": "-A7DZUXuXu9w",
        "outputId": "10271126-cbd8-4ccc-c343-b7e28e41e686"
      },
      "source": [
        "def monthly_rain(img):\n",
        "    date_start = ee.Date(img.get('system:time_start'))\n",
        "    date_end = date_start.advance(1, 'month')\n",
        "    days = date_end.difference(date_start, 'day')\n",
        "    return img.multiply(ee.Image(days)).multiply(24).copyProperties(img, ['system:time_start', 'system:time_end'])\n",
        "\n",
        "\n",
        "gpm = ee.ImageCollection(\"NASA/GPM_L3/IMERG_MONTHLY_V06\").filterDate(\"2017-07-01\", '2018-06-30').select('precipitation')\n",
        "\n",
        "gpm = gpm.map(monthly_rain)\n",
        "offer = gpm.map(offer_calc(geometry, 10000))\n",
        "offer_data = offer.getInfo()\n",
        "fig, ax = plt.subplots()\n",
        "ax.bar([pd.to_datetime(n['properties']['date'], format='%Y_%m_%d') for n in offer_data['features']],\n",
        "         [n['properties']['offer'] for n in offer_data['features']], width=5)\n",
        "ax.set_ylabel('rain (m$^3$)')\n",
        "ax.xaxis_date()"
      ],
      "execution_count": null,
      "outputs": [
        {
          "output_type": "display_data",
          "data": {
            "image/png": "[encoded data removed]",
            "text/plain": [
              "<Figure size 432x288 with 1 Axes>"
            ]
          },
          "metadata": {
            "needs_background": "light"
          }
        }
      ]
    },
    {
      "cell_type": "code",
      "metadata": {
        "colab": {
          "base_uri": "https://localhost:8080/"
        },
        "id": "HH2Fh_vsPHfw",
        "outputId": "61de831f-826c-427f-b8c2-739131097b69"
      },
      "source": [
        "print(gpm.size().getInfo())\n",
        "ee.batch.Export.image.toDrive(gpm.select('precipitation').toBands().resample('bicubic').rename(band_names),\n",
        "                              'RainLotA',\n",
        "                              region=geometry2.geometry(),\n",
        "                              scale=10,\n",
        "                              maxPixels=1e13).start()"
      ],
      "execution_count": null,
      "outputs": [
        {
          "output_type": "stream",
          "name": "stdout",
          "text": [
            "12\n"
          ]
        }
      ]
    },
    {
      "cell_type": "code",
      "metadata": {
        "colab": {
          "base_uri": "https://localhost:8080/"
        },
        "id": "2Fk33vAAns_J",
        "outputId": "e658d6a0-4f01-4274-f733-7b54b0689070"
      },
      "source": [
        "print('annual rainfall =', np.sum([n['properties']['offer'] for n in offer_data['features']])/(area)/10, 'mm') #1mm = 10m³/ha"
      ],
      "execution_count": null,
      "outputs": [
        {
          "name": "stdout",
          "output_type": "stream",
          "text": [
            "annual rainfall = 419.9152084439993 mm\n"
          ]
        }
      ]
    },
    {
      "cell_type": "code",
      "metadata": {
        "id": "Fb5s_ZpVJUwd"
      },
      "source": [
        "### for more continuous data (5 days Chirps)\n",
        "\n",
        "# chirps = ee.ImageCollection(\"UCSB-CHG/CHIRPS/PENTAD\").filterDate(\"2017-07-01\", '2018-06-30')\n",
        "# offer = chirps.map(demand_calc(geometry.geometry(), 'precipitation', 5000))\n",
        "# offer = offer.getInfo()\n",
        "# plt.plot([pd.to_datetime(n['properties']['date'], format='%Y_%m_%d') for n in offer['features']],\n",
        "#          [n['properties']['demand'] for n in offer['features']])\n",
        "# plt.ylabel('rain (m$^3$)')"
      ],
      "execution_count": null,
      "outputs": []
    },
    {
      "cell_type": "markdown",
      "metadata": {
        "id": "Z8Pol9WAyvk3"
      },
      "source": [
        "### Deficit (AET-pp)\n",
        "\n",
        "Creation of dataframe with demand - rain - deficit"
      ]
    },
    {
      "cell_type": "code",
      "metadata": {
        "colab": {
          "base_uri": "https://localhost:8080/",
          "height": 402
        },
        "id": "mDQ6S-MVyuL_",
        "outputId": "1a4f056b-4702-45e4-aba7-e0b1d827ed7e"
      },
      "source": [
        "months = [pd.to_datetime(n['properties']['date'], format='%Y_%m_%d') for n in offer_data['features']]\n",
        "demands = [n['properties']['demand'] for n in demand_data['features']]\n",
        "offers = [n['properties']['offer'] for n in offer_data['features']]\n",
        "def_df = pd.DataFrame(index=months, data={'demand': demands, 'rain': offers})\n",
        "def_df['defficit'] = def_df['demand'] - def_df['rain']\n",
        "def_df"
      ],
      "execution_count": null,
      "outputs": [
        {
          "data": {
            "text/html": [
              "<div>\n",
              "<style scoped>\n",
              "    .dataframe tbody tr th:only-of-type {\n",
              "        vertical-align: middle;\n",
              "    }\n",
              "\n",
              "    .dataframe tbody tr th {\n",
              "        vertical-align: top;\n",
              "    }\n",
              "\n",
              "    .dataframe thead th {\n",
              "        text-align: right;\n",
              "    }\n",
              "</style>\n",
              "<table border=\"1\" class=\"dataframe\">\n",
              "  <thead>\n",
              "    <tr style=\"text-align: right;\">\n",
              "      <th></th>\n",
              "      <th>demand</th>\n",
              "      <th>rain</th>\n",
              "      <th>defficit</th>\n",
              "    </tr>\n",
              "  </thead>\n",
              "  <tbody>\n",
              "    <tr>\n",
              "      <th>2017-07-01</th>\n",
              "      <td>118606.118843</td>\n",
              "      <td>87247.975234</td>\n",
              "      <td>31358.143609</td>\n",
              "    </tr>\n",
              "    <tr>\n",
              "      <th>2017-08-01</th>\n",
              "      <td>131372.911161</td>\n",
              "      <td>113308.274138</td>\n",
              "      <td>18064.637023</td>\n",
              "    </tr>\n",
              "    <tr>\n",
              "      <th>2017-09-01</th>\n",
              "      <td>279096.381710</td>\n",
              "      <td>15779.665703</td>\n",
              "      <td>263316.716006</td>\n",
              "    </tr>\n",
              "    <tr>\n",
              "      <th>2017-10-01</th>\n",
              "      <td>244969.258862</td>\n",
              "      <td>386530.469669</td>\n",
              "      <td>-141561.210807</td>\n",
              "    </tr>\n",
              "    <tr>\n",
              "      <th>2017-11-01</th>\n",
              "      <td>301820.701988</td>\n",
              "      <td>342907.311132</td>\n",
              "      <td>-41086.609144</td>\n",
              "    </tr>\n",
              "    <tr>\n",
              "      <th>2017-12-01</th>\n",
              "      <td>481548.952058</td>\n",
              "      <td>196125.075679</td>\n",
              "      <td>285423.876379</td>\n",
              "    </tr>\n",
              "    <tr>\n",
              "      <th>2018-01-01</th>\n",
              "      <td>490452.384603</td>\n",
              "      <td>213022.127699</td>\n",
              "      <td>277430.256904</td>\n",
              "    </tr>\n",
              "    <tr>\n",
              "      <th>2018-02-01</th>\n",
              "      <td>424225.130435</td>\n",
              "      <td>197663.256436</td>\n",
              "      <td>226561.873999</td>\n",
              "    </tr>\n",
              "    <tr>\n",
              "      <th>2018-03-01</th>\n",
              "      <td>387676.768958</td>\n",
              "      <td>201605.766095</td>\n",
              "      <td>186071.002863</td>\n",
              "    </tr>\n",
              "    <tr>\n",
              "      <th>2018-04-01</th>\n",
              "      <td>282180.438156</td>\n",
              "      <td>97115.931650</td>\n",
              "      <td>185064.506506</td>\n",
              "    </tr>\n",
              "    <tr>\n",
              "      <th>2018-05-01</th>\n",
              "      <td>139144.936803</td>\n",
              "      <td>60715.176169</td>\n",
              "      <td>78429.760634</td>\n",
              "    </tr>\n",
              "    <tr>\n",
              "      <th>2018-06-01</th>\n",
              "      <td>78295.333863</td>\n",
              "      <td>21884.056464</td>\n",
              "      <td>56411.277399</td>\n",
              "    </tr>\n",
              "  </tbody>\n",
              "</table>\n",
              "</div>"
            ],
            "text/plain": [
              "                   demand           rain       defficit\n",
              "2017-07-01  118606.118843   87247.975234   31358.143609\n",
              "2017-08-01  131372.911161  113308.274138   18064.637023\n",
              "2017-09-01  279096.381710   15779.665703  263316.716006\n",
              "2017-10-01  244969.258862  386530.469669 -141561.210807\n",
              "2017-11-01  301820.701988  342907.311132  -41086.609144\n",
              "2017-12-01  481548.952058  196125.075679  285423.876379\n",
              "2018-01-01  490452.384603  213022.127699  277430.256904\n",
              "2018-02-01  424225.130435  197663.256436  226561.873999\n",
              "2018-03-01  387676.768958  201605.766095  186071.002863\n",
              "2018-04-01  282180.438156   97115.931650  185064.506506\n",
              "2018-05-01  139144.936803   60715.176169   78429.760634\n",
              "2018-06-01   78295.333863   21884.056464   56411.277399"
            ]
          },
          "execution_count": 61,
          "metadata": {
            "tags": []
          },
          "output_type": "execute_result"
        }
      ]
    },
    {
      "cell_type": "markdown",
      "metadata": {
        "id": "oDMQCyr7OfP_"
      },
      "source": [
        "### Water usage"
      ]
    },
    {
      "cell_type": "markdown",
      "metadata": {
        "id": "U9-A2ilgVvj4"
      },
      "source": [
        "Importing water usage data shared by Brian"
      ]
    },
    {
      "cell_type": "code",
      "metadata": {
        "id": "RY8wSVvHfwRU"
      },
      "source": [
        "from pydrive.auth import GoogleAuth\n",
        "from pydrive.drive import GoogleDrive\n",
        "from google.colab import auth\n",
        "from oauth2client.client import GoogleCredentials"
      ],
      "execution_count": null,
      "outputs": []
    },
    {
      "cell_type": "code",
      "metadata": {
        "id": "4YvjocUBf1QX"
      },
      "source": [
        "auth.authenticate_user()\n",
        "gauth = GoogleAuth()\n",
        "gauth.credentials = GoogleCredentials.get_application_default()\n",
        "drive = GoogleDrive(gauth)"
      ],
      "execution_count": null,
      "outputs": []
    },
    {
      "cell_type": "code",
      "metadata": {
        "id": "sRWu3EBEf1Uu"
      },
      "source": [
        "downloaded = drive.CreateFile({'id':\"1YxBqgmWMI22AlpMyAh7SXKGgcCjg175n\"})\n",
        "downloaded.GetContentFile('wat_cluster_usage_ab_v3.xlsx')"
      ],
      "execution_count": null,
      "outputs": []
    },
    {
      "cell_type": "code",
      "metadata": {
        "id": "XJ1uvs5bgYiS"
      },
      "source": [
        "import pandas as pd\n",
        "from scipy.interpolate import interp1d\n",
        "\n",
        "\n",
        "water_usage = pd.read_excel('wat_cluster_usage_ab_v3.xlsx')"
      ],
      "execution_count": null,
      "outputs": []
    },
    {
      "cell_type": "markdown",
      "metadata": {
        "id": "EJx5RJYKWTCF"
      },
      "source": [
        "## Filtering dataset by paddock ID and plotting water Usage"
      ]
    },
    {
      "cell_type": "code",
      "metadata": {
        "colab": {
          "base_uri": "https://localhost:8080/",
          "height": 276
        },
        "id": "ssHqCAzdgrDx",
        "outputId": "cfbb044e-0785-4550-e10e-7e68ac867a3f"
      },
      "source": [
        "water_usage = water_usage[water_usage['C_ID'] == geometry.get('C_ID').getInfo()]\n",
        "water_usage['date'] = pd.to_datetime(water_usage['DATE_FROM'])\n",
        "water_usage = water_usage.sort_values('date')\n",
        "water_usage = water_usage.set_index('DATE_FROM')\n",
        "water_usage = water_usage.resample('MS').sum()\n",
        "\n",
        "fig, ax = plt.subplots()\n",
        "ax.bar(water_usage.index, water_usage['TOTAL_USAGE']*1000, width=5)\n",
        "ax.set_ylabel('water usage (m³)')\n",
        "ax.xaxis_date()\n"
      ],
      "execution_count": null,
      "outputs": [
        {
          "data": {
            "image/png": "[encoded data removed]",
            "text/plain": [
              "<Figure size 432x288 with 1 Axes>"
            ]
          },
          "metadata": {
            "tags": []
          },
          "output_type": "display_data"
        }
      ]
    },
    {
      "cell_type": "code",
      "metadata": {
        "colab": {
          "base_uri": "https://localhost:8080/"
        },
        "id": "8tFgNyI_FtBK",
        "outputId": "3ba53d85-6df7-4d13-a4f3-7ceb2b62003c"
      },
      "source": [
        "water_usage['TOTAL_USAGE']"
      ],
      "execution_count": null,
      "outputs": [
        {
          "data": {
            "text/plain": [
              "DATE_FROM\n",
              "2017-07-01      10.8245\n",
              "2017-08-01       8.9987\n",
              "2017-09-01      40.1259\n",
              "2017-10-01     401.9864\n",
              "2017-11-01     228.6917\n",
              "2017-12-01     669.1927\n",
              "2018-01-01    1379.8764\n",
              "2018-02-01     778.1841\n",
              "2018-03-01      76.5433\n",
              "2018-04-01      19.5202\n",
              "2018-05-01      80.6745\n",
              "2018-06-01      23.9817\n",
              "Freq: MS, Name: TOTAL_USAGE, dtype: float64"
            ]
          },
          "execution_count": 64,
          "metadata": {
            "tags": []
          },
          "output_type": "execute_result"
        }
      ]
    },
    {
      "cell_type": "code",
      "metadata": {
        "id": "m4qYNTja0idR"
      },
      "source": [
        "def_df['water_use'] = water_usage['TOTAL_USAGE'] * 1000 # assumed ML "
      ],
      "execution_count": null,
      "outputs": []
    },
    {
      "cell_type": "code",
      "metadata": {
        "colab": {
          "base_uri": "https://localhost:8080/"
        },
        "id": "JJr4BSenD6PM",
        "outputId": "1cba8de7-155a-4c8b-f2d0-d072bc3a723a"
      },
      "source": [
        "def_df['water_use']"
      ],
      "execution_count": null,
      "outputs": [
        {
          "data": {
            "text/plain": [
              "2017-07-01      10824.5\n",
              "2017-08-01       8998.7\n",
              "2017-09-01      40125.9\n",
              "2017-10-01     401986.4\n",
              "2017-11-01     228691.7\n",
              "2017-12-01     669192.7\n",
              "2018-01-01    1379876.4\n",
              "2018-02-01     778184.1\n",
              "2018-03-01      76543.3\n",
              "2018-04-01      19520.2\n",
              "2018-05-01      80674.5\n",
              "2018-06-01      23981.7\n",
              "Name: water_use, dtype: float64"
            ]
          },
          "execution_count": 68,
          "metadata": {
            "tags": []
          },
          "output_type": "execute_result"
        }
      ]
    },
    {
      "cell_type": "markdown",
      "metadata": {
        "id": "BZmBPrHOWrWr"
      },
      "source": [
        "### Water per ha"
      ]
    },
    {
      "cell_type": "code",
      "metadata": {
        "colab": {
          "base_uri": "https://localhost:8080/",
          "height": 432
        },
        "id": "Vnq6j2TY0Bo_",
        "outputId": "3fdc4f1a-7bb8-47d2-dc99-7206baf09249"
      },
      "source": [
        "table = def_df/area\n",
        "table = table.append(table.sum(numeric_only=True), ignore_index=True)\n",
        "table.round(2)"
      ],
      "execution_count": null,
      "outputs": [
        {
          "data": {
            "text/html": [
              "<div>\n",
              "<style scoped>\n",
              "    .dataframe tbody tr th:only-of-type {\n",
              "        vertical-align: middle;\n",
              "    }\n",
              "\n",
              "    .dataframe tbody tr th {\n",
              "        vertical-align: top;\n",
              "    }\n",
              "\n",
              "    .dataframe thead th {\n",
              "        text-align: right;\n",
              "    }\n",
              "</style>\n",
              "<table border=\"1\" class=\"dataframe\">\n",
              "  <thead>\n",
              "    <tr style=\"text-align: right;\">\n",
              "      <th></th>\n",
              "      <th>demand</th>\n",
              "      <th>rain</th>\n",
              "      <th>defficit</th>\n",
              "      <th>water_use</th>\n",
              "    </tr>\n",
              "  </thead>\n",
              "  <tbody>\n",
              "    <tr>\n",
              "      <th>0</th>\n",
              "      <td>257.53</td>\n",
              "      <td>189.44</td>\n",
              "      <td>68.09</td>\n",
              "      <td>23.50</td>\n",
              "    </tr>\n",
              "    <tr>\n",
              "      <th>1</th>\n",
              "      <td>285.25</td>\n",
              "      <td>246.03</td>\n",
              "      <td>39.22</td>\n",
              "      <td>19.54</td>\n",
              "    </tr>\n",
              "    <tr>\n",
              "      <th>2</th>\n",
              "      <td>606.01</td>\n",
              "      <td>34.26</td>\n",
              "      <td>571.75</td>\n",
              "      <td>87.13</td>\n",
              "    </tr>\n",
              "    <tr>\n",
              "      <th>3</th>\n",
              "      <td>531.91</td>\n",
              "      <td>839.29</td>\n",
              "      <td>-307.38</td>\n",
              "      <td>872.85</td>\n",
              "    </tr>\n",
              "    <tr>\n",
              "      <th>4</th>\n",
              "      <td>655.35</td>\n",
              "      <td>744.57</td>\n",
              "      <td>-89.21</td>\n",
              "      <td>496.57</td>\n",
              "    </tr>\n",
              "    <tr>\n",
              "      <th>5</th>\n",
              "      <td>1045.60</td>\n",
              "      <td>425.85</td>\n",
              "      <td>619.75</td>\n",
              "      <td>1453.04</td>\n",
              "    </tr>\n",
              "    <tr>\n",
              "      <th>6</th>\n",
              "      <td>1064.94</td>\n",
              "      <td>462.54</td>\n",
              "      <td>602.39</td>\n",
              "      <td>2996.17</td>\n",
              "    </tr>\n",
              "    <tr>\n",
              "      <th>7</th>\n",
              "      <td>921.13</td>\n",
              "      <td>429.19</td>\n",
              "      <td>491.94</td>\n",
              "      <td>1689.70</td>\n",
              "    </tr>\n",
              "    <tr>\n",
              "      <th>8</th>\n",
              "      <td>841.78</td>\n",
              "      <td>437.75</td>\n",
              "      <td>404.02</td>\n",
              "      <td>166.20</td>\n",
              "    </tr>\n",
              "    <tr>\n",
              "      <th>9</th>\n",
              "      <td>612.71</td>\n",
              "      <td>210.87</td>\n",
              "      <td>401.84</td>\n",
              "      <td>42.38</td>\n",
              "    </tr>\n",
              "    <tr>\n",
              "      <th>10</th>\n",
              "      <td>302.13</td>\n",
              "      <td>131.83</td>\n",
              "      <td>170.30</td>\n",
              "      <td>175.17</td>\n",
              "    </tr>\n",
              "    <tr>\n",
              "      <th>11</th>\n",
              "      <td>170.01</td>\n",
              "      <td>47.52</td>\n",
              "      <td>122.49</td>\n",
              "      <td>52.07</td>\n",
              "    </tr>\n",
              "    <tr>\n",
              "      <th>12</th>\n",
              "      <td>7294.35</td>\n",
              "      <td>4199.15</td>\n",
              "      <td>3095.20</td>\n",
              "      <td>8074.32</td>\n",
              "    </tr>\n",
              "  </tbody>\n",
              "</table>\n",
              "</div>"
            ],
            "text/plain": [
              "     demand     rain  defficit  water_use\n",
              "0    257.53   189.44     68.09      23.50\n",
              "1    285.25   246.03     39.22      19.54\n",
              "2    606.01    34.26    571.75      87.13\n",
              "3    531.91   839.29   -307.38     872.85\n",
              "4    655.35   744.57    -89.21     496.57\n",
              "5   1045.60   425.85    619.75    1453.04\n",
              "6   1064.94   462.54    602.39    2996.17\n",
              "7    921.13   429.19    491.94    1689.70\n",
              "8    841.78   437.75    404.02     166.20\n",
              "9    612.71   210.87    401.84      42.38\n",
              "10   302.13   131.83    170.30     175.17\n",
              "11   170.01    47.52    122.49      52.07\n",
              "12  7294.35  4199.15   3095.20    8074.32"
            ]
          },
          "execution_count": 67,
          "metadata": {
            "tags": []
          },
          "output_type": "execute_result"
        }
      ]
    },
    {
      "cell_type": "code",
      "metadata": {
        "colab": {
          "base_uri": "https://localhost:8080/",
          "height": 282
        },
        "id": "Ujt0QzjF15jX",
        "outputId": "5853977a-10e3-4f6d-f17b-e38606927fec"
      },
      "source": [
        "plt.scatter(def_df.index, def_df['defficit']/area)\n",
        "plt.scatter(def_df.index, def_df['water_use']/area)"
      ],
      "execution_count": null,
      "outputs": [
        {
          "data": {
            "text/plain": [
              "<matplotlib.collections.PathCollection at 0x7f9a41392fd0>"
            ]
          },
          "execution_count": 41,
          "metadata": {
            "tags": []
          },
          "output_type": "execute_result"
        },
        {
          "data": {
            "image/png": "[encoded data removed]",
            "text/plain": [
              "<Figure size 432x288 with 1 Axes>"
            ]
          },
          "metadata": {
            "tags": []
          },
          "output_type": "display_data"
        }
      ]
    },
    {
      "cell_type": "markdown",
      "metadata": {
        "id": "4Hya6kkdW2Lt"
      },
      "source": [
        "### Annual water usage per ha"
      ]
    },
    {
      "cell_type": "code",
      "metadata": {
        "colab": {
          "base_uri": "https://localhost:8080/"
        },
        "id": "q5AZQWgf0r9a",
        "outputId": "dbe1b414-377a-4bf6-e802-6730f3785dc3"
      },
      "source": [
        "print('annual water use =', def_df['water_use'].sum()/area, 'm³/ha')\n"
      ],
      "execution_count": null,
      "outputs": [
        {
          "name": "stdout",
          "output_type": "stream",
          "text": [
            "annual water use = 3458.360698052735 m³/ha\n"
          ]
        }
      ]
    },
    {
      "cell_type": "markdown",
      "metadata": {
        "id": "aGay8x8FXuh-"
      },
      "source": [
        "### Annual cumulated AET per ha"
      ]
    },
    {
      "cell_type": "code",
      "metadata": {
        "colab": {
          "base_uri": "https://localhost:8080/"
        },
        "id": "eg4sruGv0_xO",
        "outputId": "6ed5ab93-b4b9-4e25-b0d3-f1549cd974db"
      },
      "source": [
        "print('annual cumulated AET =', def_df['demand'].sum()/area, 'm³/ha')"
      ],
      "execution_count": null,
      "outputs": [
        {
          "name": "stdout",
          "output_type": "stream",
          "text": [
            "annual cumulated AET = 6685.925758351525 m³/ha\n"
          ]
        }
      ]
    },
    {
      "cell_type": "markdown",
      "metadata": {
        "id": "Myhz6nwJX2g8"
      },
      "source": [
        "### Lumped annual deficit per ha"
      ]
    },
    {
      "cell_type": "code",
      "metadata": {
        "colab": {
          "base_uri": "https://localhost:8080/"
        },
        "id": "eoMPXWL3JU9a",
        "outputId": "52a361c0-342c-45fc-c993-4a74d4d789f4"
      },
      "source": [
        "print('annual cumulated defficit =', def_df['defficit'].sum()/area, 'm³/ha')"
      ],
      "execution_count": null,
      "outputs": [
        {
          "name": "stdout",
          "output_type": "stream",
          "text": [
            "annual cumulated defficit = 2546.7527506695587 m³/ha\n"
          ]
        }
      ]
    },
    {
      "cell_type": "code",
      "metadata": {
        "colab": {
          "base_uri": "https://localhost:8080/"
        },
        "id": "BL18VZnmJQ4q",
        "outputId": "12c25fcc-feda-4e7f-e5a2-671850821750"
      },
      "source": [
        "def_df.sum()"
      ],
      "execution_count": null,
      "outputs": [
        {
          "data": {
            "text/plain": [
              "demand       6.873915e+06\n",
              "rain         4.255555e+06\n",
              "defficit     2.618360e+06\n",
              "water_use    3.555600e+06\n",
              "dtype: float64"
            ]
          },
          "execution_count": 45,
          "metadata": {
            "tags": []
          },
          "output_type": "execute_result"
        }
      ]
    },
    {
      "cell_type": "markdown",
      "metadata": {
        "id": "QoDN4fEycGMM"
      },
      "source": [
        "### Dam calculations imported from files"
      ]
    },
    {
      "cell_type": "code",
      "metadata": {
        "id": "-mghDr6WbjJH"
      },
      "source": [
        "\n",
        "downloaded1 = drive.CreateFile({'id':\"1R5qX1pB6Nss6GuLH4LUQXkla6fAjUNbx\"})\n",
        "downloaded1.GetContentFile('example1_1.pkl')\n",
        "\n",
        "\n",
        "downloaded2 = drive.CreateFile({'id':\"1lRHUs_jhjvEDgewDYMIZubMp48M076iZ\"})\n",
        "downloaded2.GetContentFile('example1_2.pkl')\n",
        "\n",
        "\n",
        "downloaded3 = drive.CreateFile({'id':\"1HZ9ihuKz9jx9F0dQkhNSrME9rXprmik3\"})\n",
        "downloaded3.GetContentFile('curve.csv')\n"
      ],
      "execution_count": null,
      "outputs": []
    },
    {
      "cell_type": "code",
      "source": [
        "dat1 = pd.read_pickle('example1_1.pkl')\n",
        "dat2 = pd.read_pickle('example1_2.pkl')\n",
        "\n",
        "dat = dat1 + dat2"
      ],
      "metadata": {
        "id": "gApA3lrXuS6E"
      },
      "execution_count": null,
      "outputs": []
    },
    {
      "cell_type": "code",
      "source": [
        "[pd.to_datetime(n[0]) for n in dat]"
      ],
      "metadata": {
        "colab": {
          "base_uri": "https://localhost:8080/"
        },
        "id": "zHu7VR7LubMJ",
        "outputId": "69a2ff56-2e36-45f5-8011-10d1460c36c7"
      },
      "execution_count": null,
      "outputs": [
        {
          "output_type": "execute_result",
          "data": {
            "text/plain": [
              "[Timestamp('2017-07-02 00:00:00'),\n",
              " Timestamp('2017-07-07 00:00:00'),\n",
              " Timestamp('2017-07-09 00:00:00'),\n",
              " Timestamp('2017-07-22 00:00:00'),\n",
              " Timestamp('2017-07-27 00:00:00'),\n",
              " Timestamp('2017-07-29 00:00:00'),\n",
              " Timestamp('2017-08-16 00:00:00'),\n",
              " Timestamp('2017-08-18 00:00:00'),\n",
              " Timestamp('2017-08-23 00:00:00'),\n",
              " Timestamp('2017-08-31 00:00:00'),\n",
              " Timestamp('2017-09-05 00:00:00'),\n",
              " Timestamp('2017-09-20 00:00:00'),\n",
              " Timestamp('2017-09-27 00:00:00'),\n",
              " Timestamp('2017-10-10 00:00:00'),\n",
              " Timestamp('2017-10-17 00:00:00'),\n",
              " Timestamp('2017-10-27 00:00:00'),\n",
              " Timestamp('2017-10-30 00:00:00'),\n",
              " Timestamp('2017-11-04 00:00:00'),\n",
              " Timestamp('2017-11-09 00:00:00'),\n",
              " Timestamp('2017-11-11 00:00:00'),\n",
              " Timestamp('2017-12-01 00:00:00'),\n",
              " Timestamp('2017-12-06 00:00:00'),\n",
              " Timestamp('2017-12-09 00:00:00'),\n",
              " Timestamp('2017-12-14 00:00:00'),\n",
              " Timestamp('2017-12-16 00:00:00'),\n",
              " Timestamp('2017-12-19 00:00:00'),\n",
              " Timestamp('2018-01-05 00:00:00'),\n",
              " Timestamp('2018-01-08 00:00:00'),\n",
              " Timestamp('2018-01-10 00:00:00'),\n",
              " Timestamp('2018-01-15 00:00:00'),\n",
              " Timestamp('2018-01-18 00:00:00'),\n",
              " Timestamp('2018-01-30 00:00:00'),\n",
              " Timestamp('2018-02-04 00:00:00'),\n",
              " Timestamp('2018-02-07 00:00:00'),\n",
              " Timestamp('2018-02-09 00:00:00'),\n",
              " Timestamp('2018-02-12 00:00:00'),\n",
              " Timestamp('2018-02-27 00:00:00'),\n",
              " Timestamp('2018-03-01 00:00:00'),\n",
              " Timestamp('2018-03-11 00:00:00'),\n",
              " Timestamp('2018-03-14 00:00:00'),\n",
              " Timestamp('2018-03-16 00:00:00'),\n",
              " Timestamp('2018-03-19 00:00:00'),\n",
              " Timestamp('2018-03-24 00:00:00'),\n",
              " Timestamp('2018-03-29 00:00:00'),\n",
              " Timestamp('2018-03-31 00:00:00'),\n",
              " Timestamp('2018-04-03 00:00:00'),\n",
              " Timestamp('2018-04-05 00:00:00'),\n",
              " Timestamp('2018-04-08 00:00:00'),\n",
              " Timestamp('2018-04-10 00:00:00'),\n",
              " Timestamp('2018-04-13 00:00:00'),\n",
              " Timestamp('2018-04-15 00:00:00'),\n",
              " Timestamp('2018-04-18 00:00:00'),\n",
              " Timestamp('2018-04-23 00:00:00'),\n",
              " Timestamp('2018-04-25 00:00:00'),\n",
              " Timestamp('2018-04-28 00:00:00'),\n",
              " Timestamp('2018-05-03 00:00:00'),\n",
              " Timestamp('2018-05-05 00:00:00'),\n",
              " Timestamp('2018-05-13 00:00:00'),\n",
              " Timestamp('2018-05-15 00:00:00'),\n",
              " Timestamp('2018-05-18 00:00:00'),\n",
              " Timestamp('2018-05-20 00:00:00'),\n",
              " Timestamp('2018-05-23 00:00:00'),\n",
              " Timestamp('2018-05-25 00:00:00'),\n",
              " Timestamp('2018-06-02 00:00:00'),\n",
              " Timestamp('2018-06-04 00:00:00'),\n",
              " Timestamp('2018-06-07 00:00:00'),\n",
              " Timestamp('2018-06-14 00:00:00'),\n",
              " Timestamp('2018-06-17 00:00:00'),\n",
              " Timestamp('2018-06-19 00:00:00'),\n",
              " Timestamp('2018-06-22 00:00:00'),\n",
              " Timestamp('2018-06-24 00:00:00')]"
            ]
          },
          "metadata": {},
          "execution_count": 43
        }
      ]
    },
    {
      "cell_type": "code",
      "metadata": {
        "id": "E75gzHXJF6Ya"
      },
      "source": [
        "# 2\n",
        "downloaded1 = drive.CreateFile({'id':\"1--CSx1a-3K_-zqgGSo2bXDnCTx9UXrnW\"})\n",
        "downloaded1.GetContentFile('example1_1.pkl')\n",
        "\n",
        "\n",
        "downloaded2 = drive.CreateFile({'id':\"1-0-nnsKTV8HFWIUSrt_XumLDpTkKZXQU\"})\n",
        "downloaded2.GetContentFile('example1_2.pkl')\n",
        "\n",
        "\n",
        "downloaded3 = drive.CreateFile({'id':\"1h_TnSFxe5eDFp9IZxnNmE8Z42Mc_qpyY\"})\n",
        "downloaded3.GetContentFile('curve.csv')\n"
      ],
      "execution_count": null,
      "outputs": []
    },
    {
      "cell_type": "code",
      "metadata": {
        "id": "RbBzplswqyFQ"
      },
      "source": [
        "curves = pd.read_csv('curve.csv')\n",
        "levels = curves['level']\n",
        "volumes = curves['volume']\n",
        "interpolator = interp1d(levels, volumes, bounds_error=False, fill_value='extrapolate')"
      ],
      "execution_count": null,
      "outputs": []
    },
    {
      "cell_type": "code",
      "source": [
        "levels"
      ],
      "metadata": {
        "colab": {
          "base_uri": "https://localhost:8080/"
        },
        "id": "k2bzj6FWp6V4",
        "outputId": "3f123429-dd27-4696-885d-d1c60b3833cf"
      },
      "execution_count": null,
      "outputs": [
        {
          "output_type": "execute_result",
          "data": {
            "text/plain": [
              "0     192.104993\n",
              "1     192.154993\n",
              "2     192.204993\n",
              "3     192.254993\n",
              "4     192.304993\n",
              "5     192.354993\n",
              "6     192.404993\n",
              "7     192.454993\n",
              "8     192.504993\n",
              "9     192.554993\n",
              "10    192.604993\n",
              "11    192.654993\n",
              "12    192.704993\n",
              "13    192.754993\n",
              "14    192.804993\n",
              "15    192.854993\n",
              "16    192.904993\n",
              "17    192.954993\n",
              "18    193.004993\n",
              "19    193.054993\n",
              "20    193.104993\n",
              "21    193.154993\n",
              "22    193.204993\n",
              "23    193.254993\n",
              "24    193.304993\n",
              "25    193.354993\n",
              "26    193.404993\n",
              "27    193.454993\n",
              "28    193.504993\n",
              "29    193.554993\n",
              "30    193.604993\n",
              "31    193.654993\n",
              "32    193.704993\n",
              "33    193.754993\n",
              "34    193.804993\n",
              "35    193.854993\n",
              "36    193.904993\n",
              "37    193.954993\n",
              "38    194.004993\n",
              "39    194.054993\n",
              "40    194.104993\n",
              "41    194.108669\n",
              "Name: level, dtype: float64"
            ]
          },
          "metadata": {},
          "execution_count": 31
        }
      ]
    },
    {
      "cell_type": "code",
      "source": [
        "np.array([n[-1][0]+0.2 if str(type(n[-1])) == \"<class 'numpy.ndarray'>\" else levels[0] for n in dat])"
      ],
      "metadata": {
        "colab": {
          "base_uri": "https://localhost:8080/"
        },
        "id": "-mmpK1NSqDHp",
        "outputId": "f6dee598-b003-4a69-bde3-7a8817521122"
      },
      "execution_count": null,
      "outputs": [
        {
          "output_type": "execute_result",
          "data": {
            "text/plain": [
              "array([192.10499268, 192.10499268, 192.10499268, 192.10499268,\n",
              "       192.62881762, 192.88486379, 192.87009786, 192.8307439 ,\n",
              "       192.8151667 , 192.97764528, 193.0998319 , 193.15142491,\n",
              "       193.43244388, 193.67975462, 194.18545657, 194.28210789,\n",
              "       194.24568066, 192.60184671, 194.25808674, 194.29525377,\n",
              "       194.26310818, 194.16728199, 194.25108856, 194.24992622,\n",
              "       194.00754259, 194.08169793, 194.1093377 , 193.7534351 ,\n",
              "       193.40786929, 193.65686778, 193.79776655, 194.16206525,\n",
              "       193.82771649, 194.19845789, 193.65075803, 193.65925671,\n",
              "       193.59344536, 193.54260048, 193.52640596, 193.47254388,\n",
              "       193.45351693, 193.35915663, 193.32957165, 193.25957126,\n",
              "       193.17142996, 193.15385522, 193.15157864, 193.14953455])"
            ]
          },
          "metadata": {},
          "execution_count": 33
        }
      ]
    },
    {
      "cell_type": "code",
      "metadata": {
        "id": "O3yy7CDZcKj6"
      },
      "source": [
        "dat1 = pd.read_pickle('example1_1.pkl')\n",
        "dat2 = pd.read_pickle('example1_2.pkl')\n",
        "\n",
        "dat = dat1 + dat2\n",
        "\n",
        "dates = [pd.to_datetime(n[0]) for n in dat]\n",
        "medians = np.array([interpolator(n[-1][1]) if str(type(n[-1])) == \"<class 'numpy.ndarray'>\" else levels[0] for n in dat]).ravel()\n",
        "p16 = np.array([interpolator(n[-1][0]-0.2) if str(type(n[-1])) == \"<class 'numpy.ndarray'>\" else levels[0] for n in dat]).ravel()\n",
        "p84 = np.array([interpolator(n[-1][0]+0.2) if str(type(n[-1])) == \"<class 'numpy.ndarray'>\" else levels[0] for n in dat]).ravel()\n",
        "# medians = np.array([interpolator(n[-1][1]) for n in dat]).ravel()\n",
        "# p16 = np.array([interpolator(n[-1][0]-0.2) for n in dat]).ravel()\n",
        "# p84 = np.array([interpolator(n[-1][0]+0.2) for n in dat]).ravel()"
      ],
      "execution_count": null,
      "outputs": []
    },
    {
      "cell_type": "code",
      "source": [
        "dat"
      ],
      "metadata": {
        "colab": {
          "base_uri": "https://localhost:8080/"
        },
        "id": "pqSMRmqEuA33",
        "outputId": "0c292a9b-0c0d-4269-c308-7456ffb3dce4"
      },
      "execution_count": null,
      "outputs": [
        {
          "output_type": "execute_result",
          "data": {
            "text/plain": [
              "[('2019-7-12', 0, 0),\n",
              " ('2019-7-17', 0, 0),\n",
              " ('2019-7-27', 0, 0),\n",
              " ('2019-8-1', 0, 0),\n",
              " ('2019-8-6',\n",
              "  array([ 3.34122587e-02, -1.03563162e+01, -1.22378072e+00,  1.26247680e+00,\n",
              "          4.77685263e+00, -2.84328659e+00,  2.79103993e+00,  1.51798394e+00,\n",
              "          1.92706152e+02]),\n",
              "  array([192.42881762, 192.60712903, 193.33914883])),\n",
              " ('2019-8-16', array([  0.21200827,  -9.91057277,   3.79765557,   2.12400728,\n",
              "           3.86745303,   0.53799508,   0.97409364,   0.83482796,\n",
              "         192.68708458]), array([192.68486379, 192.68700971, 193.12636303])),\n",
              " ('2019-8-21',\n",
              "  array([ 1.64280829e-01, -9.00640155e+00,  3.49888668e+00,  2.71159325e+00,\n",
              "          2.33692964e+00,  5.02425163e-01,  8.40971676e-01,  7.21811807e-01,\n",
              "          1.92671060e+02]),\n",
              "  array([192.67009786, 192.67149323, 192.97414278])),\n",
              " ('2019-8-26',\n",
              "  array([ 1.70667031e-01, -8.52362596e+00,  6.58861488e-01,  2.44162897e+00,\n",
              "          2.46221410e+00,  3.61945627e-01,  1.10905301e+00,  8.88034977e-01,\n",
              "          1.92633046e+02]),\n",
              "  array([192.6307439 , 192.63428266, 193.0946494 ])),\n",
              " ('2019-8-31',\n",
              "  array([ 1.69033493e-01, -8.68876521e+00, -1.33953716e-01,  2.53562715e+00,\n",
              "          2.48118228e+00,  3.10694041e-01,  1.06352147e+00,  8.41826055e-01,\n",
              "          1.92618122e+02]),\n",
              "  array([192.6151667 , 192.61895568, 193.19832175])),\n",
              " ('2019-9-5', array([  0.21050481, -10.58815627,   3.98635221,   2.66182   ,\n",
              "           3.66155488,  -0.27964739,   0.65063331,   0.8603399 ,\n",
              "         192.77935879]), array([192.77764528, 192.77904298, 193.07807394])),\n",
              " ('2019-9-10',\n",
              "  array([ 3.00888274e-01, -1.28589336e+01,  7.60848306e-01,  1.48047890e+00,\n",
              "          2.83072811e+00,  1.39258227e-01,  8.14259323e-01,  1.05301735e+00,\n",
              "          1.92900731e+02]),\n",
              "  array([192.8998319 , 192.90060994, 193.05639352])),\n",
              " ('2019-9-15', array([  0.3062822 , -10.98905835,   0.94858379,   1.6298448 ,\n",
              "           1.46862808,  -0.22256903,   0.86612161,   0.87057437,\n",
              "         192.95161718]), array([192.95142491, 192.95206857, 192.97662851])),\n",
              " ('2019-9-20',\n",
              "  array([ 2.47217800e-01, -8.94179240e+00,  1.51668876e+00,  1.87361168e+00,\n",
              "          1.74235899e+00,  1.04982111e-01,  8.95460009e-01,  1.02016411e+00,\n",
              "          1.93247415e+02]),\n",
              "  array([193.23244388, 193.26302373, 193.30016764])),\n",
              " ('2019-10-10',\n",
              "  array([1.47775072e-01, 3.21389410e+00, 1.93927245e+00, 8.88585207e+00,\n",
              "         2.53805017e+00, 3.48827063e-01, 8.42987573e-01, 6.60661185e-01,\n",
              "         1.93504131e+02]),\n",
              "  array([193.47975462, 193.52117044, 193.57718923])),\n",
              " ('2019-10-15',\n",
              "  array([ 2.97101190e-01, -1.06598924e+01,  9.51522196e-01, -3.64589821e-02,\n",
              "          2.00594401e+00, -1.59845786e-02,  1.01775866e+00,  1.27537139e+00,\n",
              "          1.94081882e+02]),\n",
              "  array([193.98545657, 194.04782882, 194.09131215])),\n",
              " ('2019-10-20', array([  0.31971025, -11.91723891,   0.67423043,   2.9215913 ,\n",
              "           1.44813562,   0.85770905,   0.69144169,   0.95319417,\n",
              "         194.10613971]), array([194.08210789, 194.10255794, 194.10694314])),\n",
              " ('2019-10-25',\n",
              "  array([ 3.51739528e-01, -1.43469438e+01,  5.90807074e-01, -2.34393763e-02,\n",
              "          3.61138198e+00, -1.94240767e-01,  1.14873064e+00,  1.94593737e+00,\n",
              "          1.94104744e+02]),\n",
              "  array([194.04568066, 194.08622665, 194.10322043])),\n",
              " ('2019-11-4',\n",
              "  array([ 9.13777426e-02,  1.39683301e+01,  3.65700070e+00,  6.55814069e+00,\n",
              "          9.89614313e+00, -2.01511961e+00, -7.08776212e-01,  2.99667717e+00,\n",
              "          1.92604469e+02]),\n",
              "  array([192.40184671, 192.82928967, 192.93236014])),\n",
              " ('2019-11-9', array([  0.35298456, -17.08577982,   0.80664762,   2.77205979,\n",
              "           1.62328572,   0.70759499,   0.61318683,   1.08760724,\n",
              "         194.10686474]), array([194.05808674, 194.09616945, 194.1057549 ])),\n",
              " ('2019-11-14', array([  0.35574654, -14.35068662,   0.64481738,   0.99497097,\n",
              "           1.68767672,   0.33586134,   0.80334598,   0.93616072,\n",
              "         194.10771105]), array([194.09525377, 194.10438085, 194.10756751])),\n",
              " ('2019-11-19', array([  0.31690002, -14.14437817,   1.11968358,   0.2029502 ,\n",
              "           2.1298307 ,   0.59174482,   0.71121988,   0.89601427,\n",
              "         194.10218825]), array([194.06310818, 194.09468219, 194.10474848])),\n",
              " ('2019-12-4',\n",
              "  array([ 3.10584905e-01, -1.56259783e+01,  5.00908899e-01,  1.24945460e+00,\n",
              "          1.26756441e+00, -8.19961026e-02,  6.43926000e-01,  9.09656058e-01,\n",
              "          1.94019517e+02]),\n",
              "  array([193.96728199, 194.0121343 , 194.04899601])),\n",
              " ('2019-12-9',\n",
              "  array([ 2.61225159e-01, -1.20081480e+01,  6.60169552e-01,  1.91887857e-01,\n",
              "          1.42401815e+00,  5.38249636e-01,  6.95405118e-01,  1.14733125e+00,\n",
              "          1.94103627e+02]),\n",
              "  array([194.05108856, 194.09049192, 194.10420882])),\n",
              " ('2019-12-14', array([  0.28855171, -13.97251274,   0.7990465 ,  -2.15824412,\n",
              "           1.28550785,   0.24999411,   0.53569715,   1.15334376,\n",
              "         194.10494462]), array([194.04992622, 194.09078494, 194.10384632])),\n",
              " ('2019-12-19', array([  0.25620271, -12.76716213,   0.50550149,   2.95174769,\n",
              "           1.37359507,   0.5340513 ,   0.44145087,   1.13038782,\n",
              "         193.90666537]), array([193.80754259, 193.90687056, 193.95596736])),\n",
              " ('2019-12-24',\n",
              "  array([ 1.90437750e-01, -9.60521628e+00,  4.65562999e-01, -2.36723275e+00,\n",
              "          1.23462562e+00,  5.00937272e-01,  6.44630714e-01,  9.03480139e-01,\n",
              "          1.93907289e+02]),\n",
              "  array([193.88169793, 193.91107074, 193.94492979])),\n",
              " ('2019-12-29', array([  0.28189863, -13.71355783,   0.50160557,   2.48665969,\n",
              "           1.32454404,   0.69656296,   0.55429835,   0.93805553,\n",
              "         193.94031752]), array([193.9093377 , 193.93973741, 193.96727759])),\n",
              " ('2020-1-3', array([  0.2636568 , -12.41766511,   0.55396152,   2.23886317,\n",
              "           1.35498164,   0.34312756,   0.67532839,   1.03397151,\n",
              "         193.58039063]), array([193.5534351 , 193.58076256, 193.60353428])),\n",
              " ('2020-1-8',\n",
              "  array([ 1.69199378e-01, -1.33360995e+01,  3.69160100e+00, -1.66465058e+00,\n",
              "          1.86911889e+00,  5.93273305e-01,  9.07028510e-01,  1.13125176e+00,\n",
              "          1.93237071e+02]),\n",
              "  array([193.20786929, 193.2583194 , 193.32782661])),\n",
              " ('2020-1-13',\n",
              "  array([ 1.75745092e-01, -1.05689459e+01,  3.36487958e+00,  1.82384149e+00,\n",
              "          2.14185194e+00,  4.05845094e-02,  9.36836200e-01,  7.04965210e-01,\n",
              "          1.93474316e+02]),\n",
              "  array([193.45686778, 193.48436881, 193.51372784])),\n",
              " ('2020-1-23',\n",
              "  array([ 2.50612557e-01, -1.36875265e+01,  4.14997033e-01,  2.01903419e+00,\n",
              "          1.07605972e+00, -9.81666851e-02,  5.48257370e-01,  1.26609823e+00,\n",
              "          1.93645950e+02]),\n",
              "  array([193.59776655, 193.63682601, 193.66587101])),\n",
              " ('2020-1-28', array([  0.22642292, -10.36497063,   1.24843107,   5.40225105,\n",
              "           1.41021942,   0.44054079,   0.54095763,   1.13848166,\n",
              "         194.05639642]), array([193.96206525, 194.02361037, 194.06810597])),\n",
              " ('2020-2-2',\n",
              "  array([ 2.56601543e-01, -1.10907645e+01,  4.46162485e-01,  2.88066306e+00,\n",
              "          1.36830079e+00, -1.48775007e-01,  7.21772064e-01,  1.14183066e+00,\n",
              "          1.93647614e+02]),\n",
              "  array([193.62771649, 193.6559622 , 193.68541847])),\n",
              " ('2020-2-27', array([  0.26735222,  -9.11391753,   0.89068992,  -0.53320339,\n",
              "           2.47129569,   0.5179761 ,   0.82544271,   1.53860682,\n",
              "         194.06659065]), array([193.99845789, 194.05786877, 194.09305853])),\n",
              " ('2020-3-13', array([  0.26439725,  -9.42891449,   0.49154764,   2.42138303,\n",
              "           1.61939275,   0.37916637,   0.77008067,   0.96693615,\n",
              "         193.46732745]), array([193.45075803, 193.47625798, 193.52671982])),\n",
              " ('2020-3-18', array([  0.2713061 , -11.09848594,   0.46902078,   1.87384936,\n",
              "           1.58428398,   0.56594346,   0.72165034,   0.97686337,\n",
              "         193.47081781]), array([193.45925671, 193.4832776 , 193.52651143])),\n",
              " ('2020-3-23',\n",
              "  array([ 2.74954910e-01, -1.15436796e+01,  4.98650341e-01,  9.97580032e-01,\n",
              "          1.53198090e+00,  1.13672312e-01,  8.60876872e-01,  1.06541033e+00,\n",
              "          1.93406576e+02]),\n",
              "  array([193.39344536, 193.41116777, 193.42536709])),\n",
              " ('2020-4-7',\n",
              "  array([ 2.69280081e-01, -1.03704533e+01,  4.84464248e-01,  9.94137484e-01,\n",
              "          1.54173386e+00, -3.35417791e-02,  7.79281400e-01,  9.69754102e-01,\n",
              "          1.93358030e+02]),\n",
              "  array([193.34260048, 193.36257737, 193.37878183])),\n",
              " ('2020-4-12',\n",
              "  array([ 2.45196578e-01, -8.05422892e+00,  5.12951768e-01,  1.89777519e+00,\n",
              "          1.59090121e+00,  9.86216339e-03,  9.09368983e-01,  9.26452006e-01,\n",
              "          1.93355667e+02]),\n",
              "  array([193.32640596, 193.34923043, 193.37148798])),\n",
              " ('2020-4-17',\n",
              "  array([ 2.41479253e-01, -9.17885337e+00,  5.89870528e-01,  8.24994124e-01,\n",
              "          1.44159333e+00,  1.32839445e-01,  7.11652752e-01,  9.81183547e-01,\n",
              "          1.93275076e+02]),\n",
              "  array([193.27254388, 193.29200416, 193.31921626])),\n",
              " ('2020-4-22',\n",
              "  array([ 2.76332933e-01, -9.35892040e+00,  5.47052445e-01,  7.32326017e-01,\n",
              "          1.52827113e+00, -1.57686929e-02,  1.07869207e+00,  9.32166271e-01,\n",
              "          1.93271165e+02]),\n",
              "  array([193.25351693, 193.26933039, 193.28346769])),\n",
              " ('2020-5-12',\n",
              "  array([ 2.80906331e-01, -9.75681757e+00,  5.71820168e-01,  1.03416606e+00,\n",
              "          1.60286401e+00, -8.85083727e-02,  8.41117587e-01,  9.37046844e-01,\n",
              "          1.93180273e+02]),\n",
              "  array([193.15915663, 193.17975601, 193.19941715])),\n",
              " ('2020-5-17', array([  0.27323447,  -8.88426447,   0.57850094,   1.02740905,\n",
              "           1.53767025,   0.3292642 ,   0.69136506,   0.94860735,\n",
              "         193.15132394]), array([193.12957165, 193.15314467, 193.17404377])),\n",
              " ('2020-5-27',\n",
              "  array([ 2.44679459e-01, -7.25142641e+00,  5.48528600e-01,  9.71235407e-01,\n",
              "          1.44213729e+00,  3.38277109e-02,  9.64432973e-01,  9.61503458e-01,\n",
              "          1.93074837e+02]),\n",
              "  array([193.05957126, 193.0836792 , 193.11383584])),\n",
              " ('2020-6-6', array([  0.24678572,  -7.25474711,   0.57883275,   1.43111521,\n",
              "           1.5330813 ,   0.46535756,   0.61162029,   0.80295089,\n",
              "         192.95403524]), array([192.97142996, 192.98050094, 192.99006939])),\n",
              " ('2020-6-11', array([  0.23400174,  -6.58248708,   0.74448972,   1.37457162,\n",
              "           1.53908459,  -0.31204959,   1.12404473,   0.73666061,\n",
              "         192.95386259]), array([192.95385522, 192.95468331, 192.97495839])),\n",
              " ('2020-6-16',\n",
              "  array([ 2.48119754e-01, -6.35749403e+00,  6.35985883e-01,  1.59328966e+00,\n",
              "          1.49798946e+00,  1.90093709e-01,  1.03496166e+00,  7.58453585e-01,\n",
              "          1.92951904e+02]),\n",
              "  array([192.95157864, 192.95206115, 192.96460125])),\n",
              " ('2020-6-26', array([  0.26310448,  -8.03273278,   0.69625067,   1.79324295,\n",
              "           1.6932821 ,   0.22830778,   0.9824668 ,   0.76891105,\n",
              "         192.9499846 ]), array([192.94953455, 192.95006171, 192.95082223]))]"
            ]
          },
          "metadata": {},
          "execution_count": 39
        }
      ]
    },
    {
      "cell_type": "code",
      "source": [
        "str(type(dat[4][-1]))"
      ],
      "metadata": {
        "colab": {
          "base_uri": "https://localhost:8080/",
          "height": 35
        },
        "id": "M4eTDvV9okNQ",
        "outputId": "d9ac5007-cb78-44dc-e6a3-906502fd24e2"
      },
      "execution_count": null,
      "outputs": [
        {
          "output_type": "execute_result",
          "data": {
            "application/vnd.google.colaboratory.intrinsic+json": {
              "type": "string"
            },
            "text/plain": [
              "\"<class 'numpy.ndarray'>\""
            ]
          },
          "metadata": {},
          "execution_count": 24
        }
      ]
    },
    {
      "cell_type": "code",
      "source": [
        "[n[-1][1] if str(type(n[-1])) == \"<class 'numpy.ndarray'>\" else levels[0] for n in dat]"
      ],
      "metadata": {
        "colab": {
          "base_uri": "https://localhost:8080/"
        },
        "id": "CkOy8yminXjN",
        "outputId": "bdd72b81-1322-4edb-c832-31ac8e42fd5e"
      },
      "execution_count": null,
      "outputs": [
        {
          "output_type": "execute_result",
          "data": {
            "text/plain": [
              "[192.1049926757813,\n",
              " 192.1049926757813,\n",
              " 192.1049926757813,\n",
              " 192.1049926757813,\n",
              " 192.60712902715096,\n",
              " 192.6870097128841,\n",
              " 192.67149322705478,\n",
              " 192.63428266473235,\n",
              " 192.61895567590943,\n",
              " 192.7790429805691,\n",
              " 192.90060993545617,\n",
              " 192.95206856821997,\n",
              " 193.26302373076982,\n",
              " 193.5211704384498,\n",
              " 194.04782881689715,\n",
              " 194.10255794216343,\n",
              " 194.08622665125628,\n",
              " 192.82928967023432,\n",
              " 194.09616945467417,\n",
              " 194.10438085374818,\n",
              " 194.09468219249908,\n",
              " 194.01213430097278,\n",
              " 194.09049192346566,\n",
              " 194.0907849379253,\n",
              " 193.90687055904687,\n",
              " 193.91107073611613,\n",
              " 193.93973740565542,\n",
              " 193.58076256445227,\n",
              " 193.25831940126585,\n",
              " 193.4843688058116,\n",
              " 193.6368260143817,\n",
              " 194.02361037089446,\n",
              " 193.6559622039412,\n",
              " 194.05786876951316,\n",
              " 193.47625798473257,\n",
              " 193.48327759771723,\n",
              " 193.41116777359906,\n",
              " 193.36257737468745,\n",
              " 193.3492304250345,\n",
              " 193.2920041643997,\n",
              " 193.26933039434348,\n",
              " 193.17975601029121,\n",
              " 193.15314467256712,\n",
              " 193.0836792000592,\n",
              " 192.98050093997148,\n",
              " 192.95468330961515,\n",
              " 192.95206114824347,\n",
              " 192.95006170822333]"
            ]
          },
          "metadata": {},
          "execution_count": 35
        }
      ]
    },
    {
      "cell_type": "code",
      "metadata": {
        "colab": {
          "base_uri": "https://localhost:8080/",
          "height": 268
        },
        "id": "G9RDxfATjHZ6",
        "outputId": "e0b29041-3843-49da-8723-f94e952befb5"
      },
      "source": [
        "fig = plt.figure(figsize=(10,4))\n",
        "\n",
        "plt.plot(dates, p84, color='grey')\n",
        "plt.plot(dates, p16, color='grey')\n",
        "plt.plot(dates, medians, color='black', linestyle='--', label='volume from MAP level')\n",
        "plt.fill_between(dates, p84, p16,\n",
        "                 color='gray', alpha=0.2, label='68% confidence interval')\n",
        "plt.gca().yaxis.set_major_formatter(plt.matplotlib.ticker.StrMethodFormatter('{x:,.0f}'))\n",
        "plt.ylabel('Volume (m$^3$)', fontsize=13)\n",
        "plt.tick_params(axis='both', labelsize=12)\n",
        "plt.legend(fontsize=12)\n",
        "plt.savefig('drive/My Drive/reservoir_b.png', dpi=300)"
      ],
      "execution_count": null,
      "outputs": [
        {
          "output_type": "display_data",
          "data": {
            "image/png": "[encoded data removed]",
            "text/plain": [
              "<Figure size 720x288 with 1 Axes>"
            ]
          },
          "metadata": {
            "needs_background": "light"
          }
        }
      ]
    },
    {
      "cell_type": "code",
      "metadata": {
        "id": "2wEGoXRUsqAq"
      },
      "source": [
        "ee.batch.Export.image.toDrive(ee.Image(testing.first()).resample('bicubic'), 'etr', scale=10000, maxPixels=1e13).start()"
      ],
      "execution_count": null,
      "outputs": []
    },
    {
      "cell_type": "code",
      "metadata": {
        "id": "v4hK_OLe0j6J"
      },
      "source": [
        "ee.batch.Export.image.toDrive(data.filterDate('2017-07-01', '2018-07-01').first().select(['B8', 'B4', 'B3', 'Kc', 'AET']).clip(geometry.geometry().bounds()),\n",
        "                              'july13',\n",
        "                              region=geometry.geometry(),\n",
        "                              scale=10).start()\n",
        "                              "
      ],
      "execution_count": null,
      "outputs": []
    },
    {
      "cell_type": "code",
      "metadata": {
        "colab": {
          "base_uri": "https://localhost:8080/",
          "height": 402
        },
        "id": "Tho59x1lgx8T",
        "outputId": "1c164602-a1b9-46f7-afe4-8f5511866781"
      },
      "source": [
        "df_dam = pd.DataFrame(index=dates, data={'volume':medians})\n",
        "df_dam['diff'] = df_dam.diff()\n",
        "df_dam['diff'][df_dam['diff'] < 0] = 0\n",
        "df_dam = df_dam.resample('M').sum()"
      ],
      "execution_count": null,
      "outputs": [
        {
          "data": {
            "text/html": [
              "<div>\n",
              "<style scoped>\n",
              "    .dataframe tbody tr th:only-of-type {\n",
              "        vertical-align: middle;\n",
              "    }\n",
              "\n",
              "    .dataframe tbody tr th {\n",
              "        vertical-align: top;\n",
              "    }\n",
              "\n",
              "    .dataframe thead th {\n",
              "        text-align: right;\n",
              "    }\n",
              "</style>\n",
              "<table border=\"1\" class=\"dataframe\">\n",
              "  <thead>\n",
              "    <tr style=\"text-align: right;\">\n",
              "      <th></th>\n",
              "      <th>volume</th>\n",
              "      <th>diff</th>\n",
              "    </tr>\n",
              "  </thead>\n",
              "  <tbody>\n",
              "    <tr>\n",
              "      <th>2017-07-31</th>\n",
              "      <td>5.642222e+05</td>\n",
              "      <td>0.000000</td>\n",
              "    </tr>\n",
              "    <tr>\n",
              "      <th>2017-08-31</th>\n",
              "      <td>2.833080e+05</td>\n",
              "      <td>0.000000</td>\n",
              "    </tr>\n",
              "    <tr>\n",
              "      <th>2017-09-30</th>\n",
              "      <td>1.273547e+05</td>\n",
              "      <td>0.000000</td>\n",
              "    </tr>\n",
              "    <tr>\n",
              "      <th>2017-10-31</th>\n",
              "      <td>7.697337e+04</td>\n",
              "      <td>0.000000</td>\n",
              "    </tr>\n",
              "    <tr>\n",
              "      <th>2017-11-30</th>\n",
              "      <td>3.280537e+04</td>\n",
              "      <td>0.000000</td>\n",
              "    </tr>\n",
              "    <tr>\n",
              "      <th>2017-12-31</th>\n",
              "      <td>1.072508e+06</td>\n",
              "      <td>242926.388603</td>\n",
              "    </tr>\n",
              "    <tr>\n",
              "      <th>2018-01-31</th>\n",
              "      <td>5.314877e+05</td>\n",
              "      <td>5892.178170</td>\n",
              "    </tr>\n",
              "    <tr>\n",
              "      <th>2018-02-28</th>\n",
              "      <td>1.658076e+05</td>\n",
              "      <td>82518.872427</td>\n",
              "    </tr>\n",
              "    <tr>\n",
              "      <th>2018-03-31</th>\n",
              "      <td>1.660903e+05</td>\n",
              "      <td>39656.883924</td>\n",
              "    </tr>\n",
              "    <tr>\n",
              "      <th>2018-04-30</th>\n",
              "      <td>2.034415e+05</td>\n",
              "      <td>23.038483</td>\n",
              "    </tr>\n",
              "    <tr>\n",
              "      <th>2018-05-31</th>\n",
              "      <td>5.782860e+04</td>\n",
              "      <td>10314.542582</td>\n",
              "    </tr>\n",
              "    <tr>\n",
              "      <th>2018-06-30</th>\n",
              "      <td>8.325548e+04</td>\n",
              "      <td>10242.486302</td>\n",
              "    </tr>\n",
              "  </tbody>\n",
              "</table>\n",
              "</div>"
            ],
            "text/plain": [
              "                  volume           diff\n",
              "2017-07-31  5.642222e+05       0.000000\n",
              "2017-08-31  2.833080e+05       0.000000\n",
              "2017-09-30  1.273547e+05       0.000000\n",
              "2017-10-31  7.697337e+04       0.000000\n",
              "2017-11-30  3.280537e+04       0.000000\n",
              "2017-12-31  1.072508e+06  242926.388603\n",
              "2018-01-31  5.314877e+05    5892.178170\n",
              "2018-02-28  1.658076e+05   82518.872427\n",
              "2018-03-31  1.660903e+05   39656.883924\n",
              "2018-04-30  2.034415e+05      23.038483\n",
              "2018-05-31  5.782860e+04   10314.542582\n",
              "2018-06-30  8.325548e+04   10242.486302"
            ]
          },
          "execution_count": 19,
          "metadata": {
            "tags": []
          },
          "output_type": "execute_result"
        }
      ]
    },
    {
      "cell_type": "code",
      "metadata": {
        "colab": {
          "base_uri": "https://localhost:8080/",
          "height": 318
        },
        "id": "9yuE62uGkVC_",
        "outputId": "6907b767-db3b-4da7-9cd5-f62e6070116d"
      },
      "source": [
        "fig, ax = plt.subplots()\n",
        "ax.bar(df_dam.index, df_dam['diff'], width=10)\n",
        "ax.xaxis_date()\n",
        "ax.set_ylabel('Volume filled (m³ month⁻¹)', fontsize=14)\n",
        "fig.show()\n",
        "\n",
        "df_dam.sum()"
      ],
      "execution_count": null,
      "outputs": [
        {
          "data": {
            "text/plain": [
              "volume    3.365083e+06\n",
              "diff      3.915744e+05\n",
              "dtype: float64"
            ]
          },
          "execution_count": 28,
          "metadata": {
            "tags": []
          },
          "output_type": "execute_result"
        },
        {
          "data": {
            "image/png": "[encoded data removed]",
            "text/plain": [
              "<Figure size 432x288 with 1 Axes>"
            ]
          },
          "metadata": {
            "tags": []
          },
          "output_type": "display_data"
        }
      ]
    },
    {
      "cell_type": "code",
      "metadata": {
        "id": "W7VVbtZ10fR0"
      },
      "source": [
        "df_dam2 = pd.DataFrame(index=dates, data={'level_MAP':[n[1][-1] if type(n[1]) != int else levels[0] for n in dat],\n",
        "                                          'level_p16':[n[-1][0] if type(n[-1]) != int else levels[0] for n in dat], \n",
        "                                          'level_p84':[n[-1][2] if type(n[-1]) != int else levels[0] for n in dat],\n",
        "                                          'volume_MAP':[interpolator(n[1][-1]) if type(n[1]) != int else 0 for n in dat],\n",
        "                                          'volume_p16':[interpolator(n[-1][0]) if type(n[-1]) != int else 0 for n in dat],\n",
        "                                          'volume_p84':[interpolator(n[-1][2]) if type(n[-1]) != int else 0 for n in dat]\n",
        "                                          })\n",
        "# df_dam2\n",
        "df_dam2.to_csv('drive/My Drive/dam1.csv')"
      ],
      "execution_count": null,
      "outputs": []
    },
    {
      "cell_type": "code",
      "metadata": {
        "colab": {
          "base_uri": "https://localhost:8080/",
          "height": 286
        },
        "id": "jA-dVagm2SNj",
        "outputId": "8d9990d6-e280-401a-e348-9162635ee7ee"
      },
      "source": [
        "plt.plot(df_dam2.index, df_dam2['volume_MAP'])\n",
        "plt.plot(df_dam2.index, df_dam2['volume_p16'])\n",
        "plt.plot(df_dam2.index, df_dam2['volume_p84'])"
      ],
      "execution_count": null,
      "outputs": [
        {
          "data": {
            "text/plain": [
              "[<matplotlib.lines.Line2D at 0x7ff6a82e9610>]"
            ]
          },
          "execution_count": 29,
          "metadata": {
            "tags": []
          },
          "output_type": "execute_result"
        },
        {
          "data": {
            "image/png": "[encoded data removed]",
            "text/plain": [
              "<Figure size 432x288 with 1 Axes>"
            ]
          },
          "metadata": {
            "tags": []
          },
          "output_type": "display_data"
        }
      ]
    },
    {
      "cell_type": "markdown",
      "metadata": {
        "id": "YQIQCwwlUajQ"
      },
      "source": [
        ""
      ]
    }
  ]
}